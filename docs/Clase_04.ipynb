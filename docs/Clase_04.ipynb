{
 "cells": [
  {
   "cell_type": "markdown",
   "metadata": {},
   "source": [
    "# MACHINE LEARNING NO SUPERVISADO\n",
    "## Modelos de Conglomerados: Conglomerados Jerárquicos"
   ]
  },
  {
   "cell_type": "markdown",
   "metadata": {},
   "source": [
    "### Definición\n",
    "\n",
    "\n",
    "Una desventaja potencial de la agrupación K-means es que requiere que preespecifiquemos el número de clusters K. La agrupación jerárquica es un enfoque alternativo que no requiere que nos comprometamos con una elección particular de K. La agrupación jerárquica tiene una ventaja adicional sobre la agrupación K-means en que resulta en una atractiva representación basada en árboles de las observaciones, llamada dendrograma.\n",
    "\n",
    "En esta sección, describiremos la agrupación jerárquica de abajo hacia arriba, también conocida como aglomerativa. Este enfoque aglomerativo es el tipo más común de agrupación jerárquica y se refiere al hecho de que se construye un dendrograma (generalmente representado como un árbol boca abajo; ver Figura 10.9) comenzando desde las hojas y combinando clusters hasta el tronco. Comenzaremos con una discusión sobre cómo interpretar un dendrograma y luego discutiremos cómo se realiza realmente la agrupación jerárquica, es decir, cómo se construye el dendrograma.\n",
    "\n",
    "***Interpretando un Dendograma***\n",
    "\n",
    "Comenzamos con el conjunto de datos simulado que se muestra en la Figura 10.8, que consta de 45 observaciones en un espacio bidimensional. Los datos se generaron a partir de un modelo de tres clases; las etiquetas de clase reales para cada observación se muestran en colores distintos. Sin embargo, supongamos que los datos se observaron sin las etiquetas de clase y que queremos realizar una agrupación jerárquica de los datos. La agrupación jerárquica (con enlace completo, que se discutirá más adelante) produce el resultado que se muestra en el panel izquierdo de la Figura 10.9. ¿Cómo podemos interpretar este dendrograma?\n",
    "\n",
    "En el panel izquierdo de la Figura 10.9, cada hoja del dendrograma representa una de las 45 observaciones en la Figura 10.8. Sin embargo, a medida que subimos por el árbol, algunas hojas comienzan a fusionarse en ramas. Estas corresponden a observaciones que son similares entre sí. A medida que subimos más alto en el árbol, las ramas mismas se fusionan, ya sea con hojas u otras ramas. Las fusiones anteriores (más abajo en el árbol) indican que los grupos de observaciones son más similares entre sí. Por otro lado, las observaciones que se fusionan más tarde (cerca de la parte superior del árbol) pueden ser bastante diferentes. De hecho, esta afirmación se puede hacer precisa: para cualquier par de observaciones, podemos buscar el punto en el árbol donde las ramas que contienen esas dos observaciones se fusionan por primera vez. La altura de esta fusión, medida en el eje vertical, indica qué tan diferentes son las dos observaciones. Por lo tanto, las observaciones que se fusionan en la parte inferior del árbol son bastante similares entre sí, mientras que las observaciones que se fusionan cerca de la parte superior del árbol tienden a ser bastante diferentes.\n",
    "\n",
    "\n",
    "\n"
   ]
  },
  {
   "cell_type": "markdown",
   "metadata": {},
   "source": [
    "asac"
   ]
  },
  {
   "cell_type": "markdown",
   "metadata": {},
   "source": []
  },
  {
   "cell_type": "markdown",
   "metadata": {},
   "source": []
  },
  {
   "cell_type": "markdown",
   "metadata": {},
   "source": []
  },
  {
   "cell_type": "markdown",
   "metadata": {},
   "source": []
  },
  {
   "cell_type": "markdown",
   "metadata": {},
   "source": []
  },
  {
   "cell_type": "markdown",
   "metadata": {},
   "source": []
  }
 ],
 "metadata": {
  "language_info": {
   "name": "python"
  },
  "orig_nbformat": 4
 },
 "nbformat": 4,
 "nbformat_minor": 2
}
