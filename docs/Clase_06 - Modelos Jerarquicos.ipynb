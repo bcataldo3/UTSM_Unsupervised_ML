{
 "cells": [
  {
   "cell_type": "markdown",
   "metadata": {},
   "source": [
    "# MACHINE LEARNING NO SUPERVISADO\n",
    "## Modelos de Conglomerados: Conglomerados Jerárquicos"
   ]
  },
  {
   "cell_type": "markdown",
   "metadata": {},
   "source": [
    "### Definición\n",
    "\n",
    "\n",
    "Los resultados de aplicar algoritmos de agrupación K-means o K-medoids dependen de la elección del número de clusters a buscar y de una asignación de configuración inicial. En contraste, los métodos de agrupación jerárquica no requieren tales especificaciones. En cambio, requieren que el usuario especifique una medida de disimilitud entre grupos (disjuntos) de observaciones, basada en las disimilitudes pareja a pareja entre las observaciones en los dos grupos.\n",
    "\n",
    "Como su nombre sugiere, estos métodos producen representaciones jerárquicas en las que los clusters en cada nivel de la jerarquía se crean fusionando clusters en el nivel inferior siguiente. En el nivel más bajo, cada cluster contiene una sola observación. En el nivel más alto, hay solo un cluster que contiene todos los datos.\n",
    "\n",
    "Las estrategias para la agrupación jerárquica se dividen en dos paradigmas básicos: aglomerativo (de abajo hacia arriba) y divisivo (de arriba hacia abajo).\n",
    "\n",
    "Las estrategias aglomerativas comienzan desde abajo y en cada nivel fusionan de manera recursiva un par seleccionado de clusters en un solo cluster. Esto produce una agrupación en el nivel superior con un cluster menos. El par elegido para la fusión consta de los dos grupos con la menor disimilitud intergrupal.\n",
    "\n",
    "Los métodos divisivos comienzan desde arriba y en cada nivel dividen de manera recursiva uno de los clusters existentes en ese nivel en dos nuevos clusters. La división se elige para producir dos nuevos grupos con la mayor disimilitud entre grupos.\n",
    "\n",
    "Con ambos paradigmas, hay N - 1 niveles en la jerarquía, donde N es el número total de observaciones.\n",
    "\n",
    "Cada nivel de la jerarquía representa una agrupación particular de los datos en clusters disjuntos de observaciones. Toda la jerarquía representa una secuencia ordenada de tales agrupaciones. Depende del usuario decidir qué nivel (si alguno) representa en realidad una agrupación \"natural\" en el sentido de que las observaciones dentro de cada uno de sus grupos son lo suficientemente similares entre sí como para que difieran significativamente de las observaciones asignadas a diferentes grupos en ese nivel. El estadístico Gap mencionado anteriormente se puede utilizar para este propósito.\n",
    "\n",
    "La división/aglomeración binaria recursiva se puede representar mediante un árbol binario con raíz. Los nodos del árbol representan grupos. El nodo raíz representa el conjunto de datos completo. Los N nodos terminales representan cada uno de las observaciones individuales (clusters singleton). Cada nodo no terminal (\"padre\") tiene dos nodos hijas. Para la agrupación divisiva, las dos hijas representan los dos grupos resultantes de la división del padre; para la agrupación aglomerativa, las hijas representan los dos grupos que se fusionaron para formar el padre.\n",
    "\n",
    "\n",
    "***Interpretando un Dendograma***\n",
    "\n",
    "Todos los métodos aglomerativos y algunos métodos divisivos (cuando se ven de abajo hacia arriba) poseen una propiedad de monotonía. Es decir, la disimilitud entre los clusters fusionados aumenta monótonamente con el nivel de la fusión. Por lo tanto, el árbol binario se puede representar de manera que la altura de cada nodo sea proporcional al valor de la disimilitud intergrupal entre sus dos hijas. Los nodos terminales que representan observaciones individuales se representan todos a una altura de cero. Este tipo de representación gráfica se llama dendrograma.\n",
    "\n",
    "\n",
    "Un dendrograma proporciona una descripción completa y altamente interpretable de la agrupación jerárquica en un formato gráfico. Esta es una de las principales razones de la popularidad de los métodos de agrupación jerárquica.\n",
    "\n",
    "\n",
    "Para los datos de microarrays, la Figura 14.12 muestra el dendrograma resultante de la agrupación aglomerativa con enlace promedio; la agrupación aglomerativa y este ejemplo se discuten con más detalle más adelante en este capítulo. Cortar el dendrograma horizontalmente en una altura particular divide los datos en clusters disjuntos representados por las líneas verticales que lo intersectan. Estos son los clusters que se producirían al finalizar el procedimiento cuando la disimilitud intergrupal óptima supere ese valor de corte umbral.\n",
    "\n",
    "Los grupos que se fusionan a altos valores, en comparación con los valores de fusión de los subgrupos contenidos dentro de ellos en niveles inferiores del árbol, son candidatos para agrupaciones naturales. Ten en cuenta que esto puede ocurrir en varios niveles diferentes, lo que indica una jerarquía de agrupaciones: es decir, clusters anidados dentro de clusters.\n",
    "\n",
    "\n",
    "Un dendrograma de este tipo a menudo se ve como un resumen gráfico de los propios datos, en lugar de una descripción de los resultados del algoritmo. Sin embargo, estas interpretaciones deben tratarse con precaución. En primer lugar, diferentes métodos jerárquicos (ver más abajo), así como pequeños cambios en los datos, pueden llevar a dendrogramas bastante diferentes. Además, dicho resumen será válido solo en la medida en que las disimilitudes entre observaciones parejas posean la estructura jerárquica producida por el algoritmo. Los métodos jerárquicos imponen una estructura jerárquica, ya sea que dicha estructura realmente exista o no en los datos.\n",
    "\n",
    "\n",
    "\n",
    "\n",
    "\n",
    "\n",
    "\n",
    "\n",
    "\n",
    "\n",
    "\n",
    "\n",
    "\n",
    "\n",
    "Comenzamos con el conjunto de datos simulado que se muestra en la Figura 10.8, que consta de 45 observaciones en un espacio bidimensional. Los datos se generaron a partir de un modelo de tres clases; las etiquetas de clase reales para cada observación se muestran en colores distintos. Sin embargo, supongamos que los datos se observaron sin las etiquetas de clase y que queremos realizar una agrupación jerárquica de los datos. La agrupación jerárquica (con enlace completo, que se discutirá más adelante) produce el resultado que se muestra en el panel izquierdo de la Figura 10.9. ¿Cómo podemos interpretar este dendrograma?\n",
    "\n",
    "En el panel izquierdo de la Figura 10.9, cada hoja del dendrograma representa una de las 45 observaciones en la Figura 10.8. Sin embargo, a medida que subimos por el árbol, algunas hojas comienzan a fusionarse en ramas. Estas corresponden a observaciones que son similares entre sí. A medida que subimos más alto en el árbol, las ramas mismas se fusionan, ya sea con hojas u otras ramas. Las fusiones anteriores (más abajo en el árbol) indican que los grupos de observaciones son más similares entre sí. Por otro lado, las observaciones que se fusionan más tarde (cerca de la parte superior del árbol) pueden ser bastante diferentes. De hecho, esta afirmación se puede hacer precisa: para cualquier par de observaciones, podemos buscar el punto en el árbol donde las ramas que contienen esas dos observaciones se fusionan por primera vez. La altura de esta fusión, medida en el eje vertical, indica qué tan diferentes son las dos observaciones. Por lo tanto, las observaciones que se fusionan en la parte inferior del árbol son bastante similares entre sí, mientras que las observaciones que se fusionan cerca de la parte superior del árbol tienden a ser bastante diferentes.\n",
    "\n",
    "\n",
    "\n"
   ]
  },
  {
   "cell_type": "markdown",
   "metadata": {},
   "source": [
    "asac"
   ]
  },
  {
   "cell_type": "markdown",
   "metadata": {},
   "source": []
  },
  {
   "cell_type": "markdown",
   "metadata": {},
   "source": []
  },
  {
   "cell_type": "markdown",
   "metadata": {},
   "source": []
  },
  {
   "cell_type": "markdown",
   "metadata": {},
   "source": []
  },
  {
   "cell_type": "markdown",
   "metadata": {},
   "source": []
  },
  {
   "cell_type": "markdown",
   "metadata": {},
   "source": []
  }
 ],
 "metadata": {
  "language_info": {
   "name": "python"
  },
  "orig_nbformat": 4
 },
 "nbformat": 4,
 "nbformat_minor": 2
}
