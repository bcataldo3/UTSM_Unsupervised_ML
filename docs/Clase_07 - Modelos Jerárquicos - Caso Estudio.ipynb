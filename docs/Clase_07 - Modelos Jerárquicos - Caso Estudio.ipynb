{
 "cells": [
  {
   "cell_type": "markdown",
   "metadata": {},
   "source": [
    "# MACHINE LEARNING NO SUPERVISADO\n",
    "## Conglomerados Jerárquicos - Caso de Estudio\n",
    "\n",
    "### Descripción del Caso\n",
    "Ahora consideremos un problema más detallado en un conjunto de datos más grande que contiene 527 muestras con 38 variables químicas y físicas que describen el estado de las plantas de tratamiento de agua. Como los mismos autores (Bejar, Cortes y Poch) mencionaron, el dominio está poco estructurado y se necesita un análisis cuidadoso. Al mismo tiempo, nuestro objetivo es encontrar el agrupamiento óptimo con un enfoque agnóstico; es decir, no consideraremos el proceso de etiquetado semántico (que requiere un experto en el dominio), sino únicamente la estructura geométrica del conjunto de datos y las relaciones descubiertas por el algoritmo aglomerativo.\n",
    "\n",
    "La primera columna es un índice relacionado con la planta específica, mientras que todos los demás valores son numéricos y pueden convertirse a float64. Los valores faltantes están indicados con el carácter '?', y como no tenemos otra información, se establecen con la media de cada atributo. Además, dado que las variables individuales tienen magnitudes muy diferentes (invito al lector a verificar esta afirmación utilizando la función describe en el DataFrame), es preferible normalizarlas en el rango (-1, 1), preservando la varianza origina. En este punto, como es habitual, podemos emplear el algoritmo t-SNE para proyectar el conjunto de datos en un espacio bidimensional:"
   ]
  },
  {
   "cell_type": "code",
   "execution_count": null,
   "metadata": {},
   "outputs": [],
   "source": [
    "\n",
    "\n",
    "df = pd.read_csv(data_path, header=None, index_col=0, na_values='?').astype(np.float64)\n",
    "df.fillna(df.mean(), inplace=True)\n",
    "\n",
    "# Standardize the dataset\n",
    "ss = StandardScaler(with_std=False)\n",
    "sdf = ss.fit_transform(df)\n",
    "\n",
    "# Perform the TSNE non-linear dimensionality reduction\n",
    "tsne = TSNE(n_components=2, perplexity=10, random_state=1000)\n",
    "data_tsne = tsne.fit_transform(sdf)\n",
    "\n",
    "df_tsne = pd.DataFrame(data_tsne, columns=['x', 'y'], index=df.index)\n",
    "dff = pd.concat([df, df_tsne], axis=1)\n",
    "\n",
    "# Show the dataset\n",
    "sns.set()\n",
    "\n",
    "fig, ax = plt.subplots(figsize=(18, 11))"
   ]
  },
  {
   "cell_type": "code",
   "execution_count": null,
   "metadata": {
    "vscode": {
     "languageId": "plaintext"
    }
   },
   "outputs": [],
   "source": []
  }
 ],
 "metadata": {
  "language_info": {
   "name": "python"
  }
 },
 "nbformat": 4,
 "nbformat_minor": 2
}
