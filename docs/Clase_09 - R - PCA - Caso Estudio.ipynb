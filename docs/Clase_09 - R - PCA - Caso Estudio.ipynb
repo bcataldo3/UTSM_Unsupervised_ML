{
  "cells": [
    {
      "cell_type": "markdown",
      "metadata": {
        "id": "oSQQnLYs8VD2"
      },
      "source": [
        "<a href=\"https://colab.research.google.com/github/bcataldo3/plantilla_curso_python/blob/main/docs/Clase_09 - R - PCA - Caso Estudio.ipynb\" target=\"_parent\"><img src=\"https://colab.research.google.com/assets/colab-badge.svg\" alt=\"Open In Colab\"/></a>\n",
        "\n",
        "# PCA - Caso de Estudio\n",
        "   \n",
        "El set de datos ``USArrests`` del paquete básico de ``R`` contiene el porcentaje de asaltos (``Assault``), asesinatos (``Murder``) y secuestros (``Rape``) por cada 100,000 habitantes para cada uno de los 50 estados de USA (1973). Además, también incluye el porcentaje de la población de cada estado que vive en zonas rurales (``UrbanPoP``)."
      ]
    },
    {
      "cell_type": "code",
      "execution_count": 1,
      "metadata": {
        "vscode": {
          "languageId": "r"
        },
        "id": "iABE28998VD7",
        "outputId": "3584023c-b9fe-4cd9-f2ac-b176a5de5f57",
        "colab": {
          "base_uri": "https://localhost:8080/",
          "height": 286
        }
      },
      "outputs": [
        {
          "output_type": "display_data",
          "data": {
            "text/html": [
              "<table class=\"dataframe\">\n",
              "<caption>A data.frame: 6 × 4</caption>\n",
              "<thead>\n",
              "\t<tr><th></th><th scope=col>Murder</th><th scope=col>Assault</th><th scope=col>UrbanPop</th><th scope=col>Rape</th></tr>\n",
              "\t<tr><th></th><th scope=col>&lt;dbl&gt;</th><th scope=col>&lt;int&gt;</th><th scope=col>&lt;int&gt;</th><th scope=col>&lt;dbl&gt;</th></tr>\n",
              "</thead>\n",
              "<tbody>\n",
              "\t<tr><th scope=row>Alabama</th><td>13.2</td><td>236</td><td>58</td><td>21.2</td></tr>\n",
              "\t<tr><th scope=row>Alaska</th><td>10.0</td><td>263</td><td>48</td><td>44.5</td></tr>\n",
              "\t<tr><th scope=row>Arizona</th><td> 8.1</td><td>294</td><td>80</td><td>31.0</td></tr>\n",
              "\t<tr><th scope=row>Arkansas</th><td> 8.8</td><td>190</td><td>50</td><td>19.5</td></tr>\n",
              "\t<tr><th scope=row>California</th><td> 9.0</td><td>276</td><td>91</td><td>40.6</td></tr>\n",
              "\t<tr><th scope=row>Colorado</th><td> 7.9</td><td>204</td><td>78</td><td>38.7</td></tr>\n",
              "</tbody>\n",
              "</table>\n"
            ],
            "text/markdown": "\nA data.frame: 6 × 4\n\n| <!--/--> | Murder &lt;dbl&gt; | Assault &lt;int&gt; | UrbanPop &lt;int&gt; | Rape &lt;dbl&gt; |\n|---|---|---|---|---|\n| Alabama | 13.2 | 236 | 58 | 21.2 |\n| Alaska | 10.0 | 263 | 48 | 44.5 |\n| Arizona |  8.1 | 294 | 80 | 31.0 |\n| Arkansas |  8.8 | 190 | 50 | 19.5 |\n| California |  9.0 | 276 | 91 | 40.6 |\n| Colorado |  7.9 | 204 | 78 | 38.7 |\n\n",
            "text/latex": "A data.frame: 6 × 4\n\\begin{tabular}{r|llll}\n  & Murder & Assault & UrbanPop & Rape\\\\\n  & <dbl> & <int> & <int> & <dbl>\\\\\n\\hline\n\tAlabama & 13.2 & 236 & 58 & 21.2\\\\\n\tAlaska & 10.0 & 263 & 48 & 44.5\\\\\n\tArizona &  8.1 & 294 & 80 & 31.0\\\\\n\tArkansas &  8.8 & 190 & 50 & 19.5\\\\\n\tCalifornia &  9.0 & 276 & 91 & 40.6\\\\\n\tColorado &  7.9 & 204 & 78 & 38.7\\\\\n\\end{tabular}\n",
            "text/plain": [
              "           Murder Assault UrbanPop Rape\n",
              "Alabama    13.2   236     58       21.2\n",
              "Alaska     10.0   263     48       44.5\n",
              "Arizona     8.1   294     80       31.0\n",
              "Arkansas    8.8   190     50       19.5\n",
              "California  9.0   276     91       40.6\n",
              "Colorado    7.9   204     78       38.7"
            ]
          },
          "metadata": {}
        }
      ],
      "source": [
        "data(\"USArrests\")\n",
        "head(USArrests)"
      ]
    },
    {
      "cell_type": "markdown",
      "metadata": {
        "id": "L4LhlDi68VD8"
      },
      "source": [
        "El promedio de los datos muestra que hay tres veces más secuestros que asesinatos y 8 veces más asaltos que secuestros."
      ]
    },
    {
      "cell_type": "code",
      "execution_count": 2,
      "metadata": {
        "vscode": {
          "languageId": "r"
        },
        "id": "kJIB3Gcn8VD9",
        "outputId": "ff517792-2574-4b3c-bb6f-d10d7fb48c34",
        "colab": {
          "base_uri": "https://localhost:8080/",
          "height": 34
        }
      },
      "outputs": [
        {
          "output_type": "display_data",
          "data": {
            "text/html": [
              "<style>\n",
              ".dl-inline {width: auto; margin:0; padding: 0}\n",
              ".dl-inline>dt, .dl-inline>dd {float: none; width: auto; display: inline-block}\n",
              ".dl-inline>dt::after {content: \":\\0020\"; padding-right: .5ex}\n",
              ".dl-inline>dt:not(:first-of-type) {padding-left: .5ex}\n",
              "</style><dl class=dl-inline><dt>Murder</dt><dd>7.788</dd><dt>Assault</dt><dd>170.76</dd><dt>UrbanPop</dt><dd>65.54</dd><dt>Rape</dt><dd>21.232</dd></dl>\n"
            ],
            "text/markdown": "Murder\n:   7.788Assault\n:   170.76UrbanPop\n:   65.54Rape\n:   21.232\n\n",
            "text/latex": "\\begin{description*}\n\\item[Murder] 7.788\n\\item[Assault] 170.76\n\\item[UrbanPop] 65.54\n\\item[Rape] 21.232\n\\end{description*}\n",
            "text/plain": [
              "  Murder  Assault UrbanPop     Rape \n",
              "   7.788  170.760   65.540   21.232 "
            ]
          },
          "metadata": {}
        }
      ],
      "source": [
        "apply(X = USArrests, MARGIN = 2, FUN = mean)"
      ]
    },
    {
      "cell_type": "markdown",
      "metadata": {
        "id": "Bhnatcfs8VD9"
      },
      "source": [
        "La varianza es muy distinta entre las variables, en el caso de Assault, la varianza es varios órdenes de magnitud superior al resto."
      ]
    },
    {
      "cell_type": "code",
      "execution_count": 3,
      "metadata": {
        "vscode": {
          "languageId": "r"
        },
        "id": "7hAEwMgs8VD-",
        "outputId": "78568641-bd64-47fc-fd09-eb3654f9fea4",
        "colab": {
          "base_uri": "https://localhost:8080/",
          "height": 34
        }
      },
      "outputs": [
        {
          "output_type": "display_data",
          "data": {
            "text/html": [
              "<style>\n",
              ".dl-inline {width: auto; margin:0; padding: 0}\n",
              ".dl-inline>dt, .dl-inline>dd {float: none; width: auto; display: inline-block}\n",
              ".dl-inline>dt::after {content: \":\\0020\"; padding-right: .5ex}\n",
              ".dl-inline>dt:not(:first-of-type) {padding-left: .5ex}\n",
              "</style><dl class=dl-inline><dt>Murder</dt><dd>18.9704653061224</dd><dt>Assault</dt><dd>6945.16571428571</dd><dt>UrbanPop</dt><dd>209.518775510204</dd><dt>Rape</dt><dd>87.7291591836735</dd></dl>\n"
            ],
            "text/markdown": "Murder\n:   18.9704653061224Assault\n:   6945.16571428571UrbanPop\n:   209.518775510204Rape\n:   87.7291591836735\n\n",
            "text/latex": "\\begin{description*}\n\\item[Murder] 18.9704653061224\n\\item[Assault] 6945.16571428571\n\\item[UrbanPop] 209.518775510204\n\\item[Rape] 87.7291591836735\n\\end{description*}\n",
            "text/plain": [
              "    Murder    Assault   UrbanPop       Rape \n",
              "  18.97047 6945.16571  209.51878   87.72916 "
            ]
          },
          "metadata": {}
        }
      ],
      "source": [
        "apply(X = USArrests, MARGIN = 2, FUN = var)"
      ]
    },
    {
      "cell_type": "markdown",
      "metadata": {
        "id": "PFUyOoeD8VD-"
      },
      "source": [
        "Si no se estandarizan las variables para que tengan media cero y desviación estándar 1 antes de realizar el estudio PCA, la variable Assault dominará la mayoría de las componentes principales.\n",
        "\n",
        "La función ``prcomp()`` es una de las múltiples funciones en ``R`` que realizan PCA. Por defecto, ``prcomp()`` centra las variables para que tengan media cero, pero si se quiere además que su desviación estándar sea de uno, hay que indicar ``scale = TRUE``."
      ]
    },
    {
      "cell_type": "code",
      "execution_count": 4,
      "metadata": {
        "vscode": {
          "languageId": "r"
        },
        "id": "HEUEs5aq8VD_",
        "outputId": "beb4a5d5-05e6-4463-e737-51d3ba368e5b",
        "colab": {
          "base_uri": "https://localhost:8080/",
          "height": 34
        }
      },
      "outputs": [
        {
          "output_type": "display_data",
          "data": {
            "text/html": [
              "<style>\n",
              ".list-inline {list-style: none; margin:0; padding: 0}\n",
              ".list-inline>li {display: inline-block}\n",
              ".list-inline>li:not(:last-child)::after {content: \"\\00b7\"; padding: 0 .5ex}\n",
              "</style>\n",
              "<ol class=list-inline><li>'sdev'</li><li>'rotation'</li><li>'center'</li><li>'scale'</li><li>'x'</li></ol>\n"
            ],
            "text/markdown": "1. 'sdev'\n2. 'rotation'\n3. 'center'\n4. 'scale'\n5. 'x'\n\n\n",
            "text/latex": "\\begin{enumerate*}\n\\item 'sdev'\n\\item 'rotation'\n\\item 'center'\n\\item 'scale'\n\\item 'x'\n\\end{enumerate*}\n",
            "text/plain": [
              "[1] \"sdev\"     \"rotation\" \"center\"   \"scale\"    \"x\"       "
            ]
          },
          "metadata": {}
        }
      ],
      "source": [
        "pca <- prcomp(USArrests, scale = TRUE)\n",
        "names(pca)"
      ]
    },
    {
      "cell_type": "markdown",
      "metadata": {
        "id": "cSfEFvxi8VD_"
      },
      "source": [
        "``rotation`` contiene el valor de los loadings $ϕ$ para cada componente (eigenvector). El número máximo de componentes principales se corresponde con el mínimo($n-1$,$p$), que en este caso es $min(49,4)=4$"
      ]
    },
    {
      "cell_type": "code",
      "execution_count": 5,
      "metadata": {
        "vscode": {
          "languageId": "r"
        },
        "id": "5B4N40Bp8VEA",
        "outputId": "a0c4fd56-4fb4-4748-8eb2-502794764e80",
        "colab": {
          "base_uri": "https://localhost:8080/",
          "height": 192
        }
      },
      "outputs": [
        {
          "output_type": "display_data",
          "data": {
            "text/html": [
              "<table class=\"dataframe\">\n",
              "<caption>A matrix: 4 × 4 of type dbl</caption>\n",
              "<thead>\n",
              "\t<tr><th></th><th scope=col>PC1</th><th scope=col>PC2</th><th scope=col>PC3</th><th scope=col>PC4</th></tr>\n",
              "</thead>\n",
              "<tbody>\n",
              "\t<tr><th scope=row>Murder</th><td>-0.5358995</td><td>-0.4181809</td><td> 0.3412327</td><td> 0.64922780</td></tr>\n",
              "\t<tr><th scope=row>Assault</th><td>-0.5831836</td><td>-0.1879856</td><td> 0.2681484</td><td>-0.74340748</td></tr>\n",
              "\t<tr><th scope=row>UrbanPop</th><td>-0.2781909</td><td> 0.8728062</td><td> 0.3780158</td><td> 0.13387773</td></tr>\n",
              "\t<tr><th scope=row>Rape</th><td>-0.5434321</td><td> 0.1673186</td><td>-0.8177779</td><td> 0.08902432</td></tr>\n",
              "</tbody>\n",
              "</table>\n"
            ],
            "text/markdown": "\nA matrix: 4 × 4 of type dbl\n\n| <!--/--> | PC1 | PC2 | PC3 | PC4 |\n|---|---|---|---|---|\n| Murder | -0.5358995 | -0.4181809 |  0.3412327 |  0.64922780 |\n| Assault | -0.5831836 | -0.1879856 |  0.2681484 | -0.74340748 |\n| UrbanPop | -0.2781909 |  0.8728062 |  0.3780158 |  0.13387773 |\n| Rape | -0.5434321 |  0.1673186 | -0.8177779 |  0.08902432 |\n\n",
            "text/latex": "A matrix: 4 × 4 of type dbl\n\\begin{tabular}{r|llll}\n  & PC1 & PC2 & PC3 & PC4\\\\\n\\hline\n\tMurder & -0.5358995 & -0.4181809 &  0.3412327 &  0.64922780\\\\\n\tAssault & -0.5831836 & -0.1879856 &  0.2681484 & -0.74340748\\\\\n\tUrbanPop & -0.2781909 &  0.8728062 &  0.3780158 &  0.13387773\\\\\n\tRape & -0.5434321 &  0.1673186 & -0.8177779 &  0.08902432\\\\\n\\end{tabular}\n",
            "text/plain": [
              "         PC1        PC2        PC3        PC4        \n",
              "Murder   -0.5358995 -0.4181809  0.3412327  0.64922780\n",
              "Assault  -0.5831836 -0.1879856  0.2681484 -0.74340748\n",
              "UrbanPop -0.2781909  0.8728062  0.3780158  0.13387773\n",
              "Rape     -0.5434321  0.1673186 -0.8177779  0.08902432"
            ]
          },
          "metadata": {}
        }
      ],
      "source": [
        "pca$rotation"
      ]
    },
    {
      "cell_type": "markdown",
      "metadata": {
        "id": "sdALUbYn8VEA"
      },
      "source": [
        "Analizar con detalle el vector de loadings que forma cada componente puede ayudar a interpretar que tipo de información recoge cada una de ellas. Por ejemplo, la primera componente es el resultado de la siguiente combinación lineal de las variables originales:\n",
        "\n",
        "$$PC1=−0.5358995 Murder−0.5831836 Assault−0.2781909 UrbanPop−0.5434321 Rape$$\n",
        "\n",
        "Los pesos asignados en la primera componente a las variables ``Assault``, ``Murder`` y ``Rape`` son aproximadamente iguales entre ellos y bastante superiores al asignado a UrbanPoP, esto significa que la primera componente recoge mayoritariamente la información correspondiente a los delitos. En la segunda componente, es la variable UrbanPoP la que tiene con diferencia mayor peso, por lo que se corresponde principalmente con el nivel de urbanización del estado. Si bien en este ejemplo la interpretación de las componentes es bastante clara, no en todos los casos ocurre lo mismo.\n",
        "\n",
        "La función ``prcomp()`` calcula automáticamente el valor de las componentes principales para cada observación (principal component scores) multiplicando los datos por los vectores de loadings. El resultado se almacena en la matriz x."
      ]
    },
    {
      "cell_type": "code",
      "execution_count": 6,
      "metadata": {
        "vscode": {
          "languageId": "r"
        },
        "id": "4cvJKZcb8VEA",
        "outputId": "a75268cb-5e16-446e-a516-161d19dcf4d0",
        "colab": {
          "base_uri": "https://localhost:8080/",
          "height": 255
        }
      },
      "outputs": [
        {
          "output_type": "display_data",
          "data": {
            "text/html": [
              "<table class=\"dataframe\">\n",
              "<caption>A matrix: 6 × 4 of type dbl</caption>\n",
              "<thead>\n",
              "\t<tr><th></th><th scope=col>PC1</th><th scope=col>PC2</th><th scope=col>PC3</th><th scope=col>PC4</th></tr>\n",
              "</thead>\n",
              "<tbody>\n",
              "\t<tr><th scope=row>Alabama</th><td>-0.9756604</td><td>-1.1220012</td><td> 0.43980366</td><td> 0.154696581</td></tr>\n",
              "\t<tr><th scope=row>Alaska</th><td>-1.9305379</td><td>-1.0624269</td><td>-2.01950027</td><td>-0.434175454</td></tr>\n",
              "\t<tr><th scope=row>Arizona</th><td>-1.7454429</td><td> 0.7384595</td><td>-0.05423025</td><td>-0.826264240</td></tr>\n",
              "\t<tr><th scope=row>Arkansas</th><td> 0.1399989</td><td>-1.1085423</td><td>-0.11342217</td><td>-0.180973554</td></tr>\n",
              "\t<tr><th scope=row>California</th><td>-2.4986128</td><td> 1.5274267</td><td>-0.59254100</td><td>-0.338559240</td></tr>\n",
              "\t<tr><th scope=row>Colorado</th><td>-1.4993407</td><td> 0.9776297</td><td>-1.08400162</td><td> 0.001450164</td></tr>\n",
              "</tbody>\n",
              "</table>\n"
            ],
            "text/markdown": "\nA matrix: 6 × 4 of type dbl\n\n| <!--/--> | PC1 | PC2 | PC3 | PC4 |\n|---|---|---|---|---|\n| Alabama | -0.9756604 | -1.1220012 |  0.43980366 |  0.154696581 |\n| Alaska | -1.9305379 | -1.0624269 | -2.01950027 | -0.434175454 |\n| Arizona | -1.7454429 |  0.7384595 | -0.05423025 | -0.826264240 |\n| Arkansas |  0.1399989 | -1.1085423 | -0.11342217 | -0.180973554 |\n| California | -2.4986128 |  1.5274267 | -0.59254100 | -0.338559240 |\n| Colorado | -1.4993407 |  0.9776297 | -1.08400162 |  0.001450164 |\n\n",
            "text/latex": "A matrix: 6 × 4 of type dbl\n\\begin{tabular}{r|llll}\n  & PC1 & PC2 & PC3 & PC4\\\\\n\\hline\n\tAlabama & -0.9756604 & -1.1220012 &  0.43980366 &  0.154696581\\\\\n\tAlaska & -1.9305379 & -1.0624269 & -2.01950027 & -0.434175454\\\\\n\tArizona & -1.7454429 &  0.7384595 & -0.05423025 & -0.826264240\\\\\n\tArkansas &  0.1399989 & -1.1085423 & -0.11342217 & -0.180973554\\\\\n\tCalifornia & -2.4986128 &  1.5274267 & -0.59254100 & -0.338559240\\\\\n\tColorado & -1.4993407 &  0.9776297 & -1.08400162 &  0.001450164\\\\\n\\end{tabular}\n",
            "text/plain": [
              "           PC1        PC2        PC3         PC4         \n",
              "Alabama    -0.9756604 -1.1220012  0.43980366  0.154696581\n",
              "Alaska     -1.9305379 -1.0624269 -2.01950027 -0.434175454\n",
              "Arizona    -1.7454429  0.7384595 -0.05423025 -0.826264240\n",
              "Arkansas    0.1399989 -1.1085423 -0.11342217 -0.180973554\n",
              "California -2.4986128  1.5274267 -0.59254100 -0.338559240\n",
              "Colorado   -1.4993407  0.9776297 -1.08400162  0.001450164"
            ]
          },
          "metadata": {}
        }
      ],
      "source": [
        "head(pca$x)"
      ]
    },
    {
      "cell_type": "markdown",
      "metadata": {
        "id": "v7VUFj6E8VEA"
      },
      "source": [
        "Mediante la función ``biplot()`` se puede obtener una representación bidimensional de las dos primeras componentes. Es recomendable indicar el argumento ``scale = 0`` para que las flechas estén en la misma escala que las componentes."
      ]
    },
    {
      "cell_type": "markdown",
      "metadata": {
        "id": "1GktVZRB8VEB"
      },
      "source": [
        "Una vez calculadas las componentes principales, se puede conocer la varianza explicada por cada una de ellas, la proporción respecto al total y la proporción de varianza acumulada."
      ]
    },
    {
      "cell_type": "code",
      "execution_count": 7,
      "metadata": {
        "vscode": {
          "languageId": "r"
        },
        "id": "P9y0aYKQ8VEB",
        "outputId": "c419e03d-d468-44ca-b589-cd7f6935231d",
        "colab": {
          "base_uri": "https://localhost:8080/",
          "height": 34
        }
      },
      "outputs": [
        {
          "output_type": "display_data",
          "data": {
            "text/html": [
              "<style>\n",
              ".list-inline {list-style: none; margin:0; padding: 0}\n",
              ".list-inline>li {display: inline-block}\n",
              ".list-inline>li:not(:last-child)::after {content: \"\\00b7\"; padding: 0 .5ex}\n",
              "</style>\n",
              "<ol class=list-inline><li>2.48024157914949</li><li>0.98976515253984</li><li>0.356563180580829</li><li>0.173430087729835</li></ol>\n"
            ],
            "text/markdown": "1. 2.48024157914949\n2. 0.98976515253984\n3. 0.356563180580829\n4. 0.173430087729835\n\n\n",
            "text/latex": "\\begin{enumerate*}\n\\item 2.48024157914949\n\\item 0.98976515253984\n\\item 0.356563180580829\n\\item 0.173430087729835\n\\end{enumerate*}\n",
            "text/plain": [
              "[1] 2.4802416 0.9897652 0.3565632 0.1734301"
            ]
          },
          "metadata": {}
        }
      ],
      "source": [
        "library(ggplot2)\n",
        "pca$sdev^2"
      ]
    },
    {
      "cell_type": "code",
      "execution_count": 8,
      "metadata": {
        "vscode": {
          "languageId": "r"
        },
        "id": "qJjqOiRm8VEB",
        "outputId": "80e99401-ecb5-415a-b686-40ed43fd499c",
        "colab": {
          "base_uri": "https://localhost:8080/",
          "height": 34
        }
      },
      "outputs": [
        {
          "output_type": "display_data",
          "data": {
            "text/html": [
              "<style>\n",
              ".list-inline {list-style: none; margin:0; padding: 0}\n",
              ".list-inline>li {display: inline-block}\n",
              ".list-inline>li:not(:last-child)::after {content: \"\\00b7\"; padding: 0 .5ex}\n",
              "</style>\n",
              "<ol class=list-inline><li>0.620060394787374</li><li>0.24744128813496</li><li>0.0891407951452074</li><li>0.0433575219324589</li></ol>\n"
            ],
            "text/markdown": "1. 0.620060394787374\n2. 0.24744128813496\n3. 0.0891407951452074\n4. 0.0433575219324589\n\n\n",
            "text/latex": "\\begin{enumerate*}\n\\item 0.620060394787374\n\\item 0.24744128813496\n\\item 0.0891407951452074\n\\item 0.0433575219324589\n\\end{enumerate*}\n",
            "text/plain": [
              "[1] 0.62006039 0.24744129 0.08914080 0.04335752"
            ]
          },
          "metadata": {}
        }
      ],
      "source": [
        "prop_varianza <- pca$sdev^2 / sum(pca$sdev^2)\n",
        "prop_varianza"
      ]
    },
    {
      "cell_type": "code",
      "execution_count": 9,
      "metadata": {
        "vscode": {
          "languageId": "r"
        },
        "id": "ZUFgQG3z8VEB",
        "outputId": "41861b74-478e-44dc-e3f0-fb718a43c509",
        "colab": {
          "base_uri": "https://localhost:8080/",
          "height": 437
        }
      },
      "outputs": [
        {
          "output_type": "display_data",
          "data": {
            "text/plain": [
              "plot without title"
            ],
            "image/png": "[encoded data removed]"
          },
          "metadata": {
            "image/png": {
              "width": 420,
              "height": 420
            }
          }
        }
      ],
      "source": [
        "ggplot(data = data.frame(prop_varianza, pc = 1:4),\n",
        "       aes(x = pc, y = prop_varianza)) +\n",
        "  geom_col(width = 0.3) +\n",
        "  scale_y_continuous(limits = c(0,1)) +\n",
        "  theme_bw() +\n",
        "  labs(x = \"Componente principal\",\n",
        "       y = \"Prop. de varianza explicada\")"
      ]
    },
    {
      "cell_type": "code",
      "execution_count": 10,
      "metadata": {
        "vscode": {
          "languageId": "r"
        },
        "id": "XHqJdiwQ8VEB",
        "outputId": "5653fec2-386e-4944-af04-c98e6910b824",
        "colab": {
          "base_uri": "https://localhost:8080/",
          "height": 34
        }
      },
      "outputs": [
        {
          "output_type": "display_data",
          "data": {
            "text/html": [
              "<style>\n",
              ".list-inline {list-style: none; margin:0; padding: 0}\n",
              ".list-inline>li {display: inline-block}\n",
              ".list-inline>li:not(:last-child)::after {content: \"\\00b7\"; padding: 0 .5ex}\n",
              "</style>\n",
              "<ol class=list-inline><li>0.620060394787374</li><li>0.867501682922334</li><li>0.956642478067541</li><li>1</li></ol>\n"
            ],
            "text/markdown": "1. 0.620060394787374\n2. 0.867501682922334\n3. 0.956642478067541\n4. 1\n\n\n",
            "text/latex": "\\begin{enumerate*}\n\\item 0.620060394787374\n\\item 0.867501682922334\n\\item 0.956642478067541\n\\item 1\n\\end{enumerate*}\n",
            "text/plain": [
              "[1] 0.6200604 0.8675017 0.9566425 1.0000000"
            ]
          },
          "metadata": {}
        }
      ],
      "source": [
        "prop_varianza_acum <- cumsum(prop_varianza)\n",
        "prop_varianza_acum"
      ]
    },
    {
      "cell_type": "code",
      "execution_count": 11,
      "metadata": {
        "vscode": {
          "languageId": "r"
        },
        "id": "Hcnw8JOn8VEB",
        "outputId": "ce0b75a4-7670-4732-83f4-c15aafce9885",
        "colab": {
          "base_uri": "https://localhost:8080/",
          "height": 437
        }
      },
      "outputs": [
        {
          "output_type": "display_data",
          "data": {
            "text/plain": [
              "plot without title"
            ],
            "image/png": "[encoded data removed]"
          },
          "metadata": {
            "image/png": {
              "width": 420,
              "height": 420
            }
          }
        }
      ],
      "source": [
        "ggplot(data = data.frame(prop_varianza_acum, pc = 1:4),\n",
        "       aes(x = pc, y = prop_varianza_acum, group = 1)) +\n",
        "  geom_point() +\n",
        "  geom_line() +\n",
        "  theme_bw() +\n",
        "  labs(x = \"Componente principal\",\n",
        "       y = \"Prop. varianza explicada acumulada\")"
      ]
    },
    {
      "cell_type": "markdown",
      "metadata": {
        "id": "xOVWvi9y8VEB"
      },
      "source": [
        "En este caso, la primera componente explica el 62% de la varianza observada en los datos y la segunda el 24.7%. Las dos últimas componentes no superan por separado el 1% de varianza explicada. Si se empleasen únicamente las dos primeras componentes se conseguiría explicar el 86.75% de la varianza observada."
      ]
    }
  ],
  "metadata": {
    "language_info": {
      "name": "R"
    },
    "colab": {
      "provenance": []
    },
    "kernelspec": {
      "name": "ir",
      "display_name": "R"
    }
  },
  "nbformat": 4,
  "nbformat_minor": 0
}