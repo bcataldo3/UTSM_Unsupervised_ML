{
 "cells": [
  {
   "cell_type": "markdown",
   "metadata": {},
   "source": [
    "# MACHINE LEARNING NO SUPERVISADO\n",
    "## Deteccion de Anomalias - Estimacion Densidad del Kernel\n",
    "### Formulación Matemática\n",
    "La solución al problema de la discontinuidad de los histogramas puede abordarse de manera efectiva con un método simple. Dada una muestra $x_i ∈ X$, es posible considerar un hipervolumen (normalmente un hipercubo o una hiperesfera), asumiendo que estamos trabajando con distribuciones multivariadas, cuyo centro es $x_i$. La extensión de esa región se define a través de una constante $h$ llamada ancho de banda (el nombre se ha elegido para apoyar el significado de un área limitada donde el valor es positivo). Sin embargo, en lugar de simplemente contar el número de muestras que pertenecen al hipervolumen, ahora aproximamos este valor utilizando una función núcleo suave $K(x_i; h)$ con algunas características importantes:\n",
    "\n",
    "$K(\\bar{x};h) \\: \\text{ is positive with } \\: K(\\bar{x};h)=K(-\\bar{x};h)$\n",
    "\n",
    "Además, por razones estadísticas y prácticas, también es necesario hacer cumplir las siguientes restricciones integrales (por simplicidad, se muestran solo para un caso univariado, pero la extensión es directa).\n",
    "\n",
    "$\\int\\limits_{-\\infty}^{\\infty}K(x; h)\\: dx=1$\n",
    "\n",
    "$\\int\\limits_{-\\infty}^{\\infty}x^2K(x; h)\\: dx=1$\n",
    "\n",
    "$\\int\\limits_{-\\infty}^{\\infty}x^tK(x; h)\\: dx<\\infty \\: \\text{ if } t \\in [0,\\infty) $\n",
    "\n",
    "Ahora, revisemos ejemplos de funciones de kernel habituales"
   ]
  },
  {
   "cell_type": "markdown",
   "metadata": {},
   "source": [
    "#### Kernel Guasiano\n",
    "\n",
    "Uno de los más empleados, cuya fórmula es la siguiente:\n",
    "\n",
    "$$\\large K(\\bar{x};h)=\\frac{1}{\\sqrt[n]{2\\pi h^2}e^{-\\frac{\\bar{x}^T\\bar{x}}{2h^2}}}$$\n",
    "\n",
    "<img src=\"https://drive.google.com/uc?export=view&id=1s7rkjEphi23y_8GZNRLyE8ZFF8L8xH33\" width = \"800\" align=\"center\"/>\n",
    "\n",
    "\n",
    "Dada su regularidad, un núcleo gaussiano es una elección común para muchas tareas de estimación de densidad. Sin embargo, dado que el método no permite la combinación de diferentes núcleos, la elección debe considerar todas las propiedades. Desde el punto de vista estadístico, sabemos que una distribución gaussiana puede considerarse como una referencia promedio para la curtosis (que es proporcional al pico y a la pesadez de las colas). Para maximizar la selectividad del núcleo, necesitamos reducir el ancho de banda. Esto significa que incluso las oscilaciones más pequeñas alterarán la densidad y el resultado será una estimación muy irregular. Por otro lado, cuando h es grande (es decir, la varianza de la gaussiana), la aproximación se vuelve muy suave y puede perder la capacidad de capturar todos los picos. Por esta razón, junto con la selección del ancho de banda más apropiado, también es útil considerar otros núcleos que puedan simplificar naturalmente el proceso.\n",
    "\n",
    "#### Kernel Epanechnikov\n",
    "Este núcleo ha sido propuesto para minimizar el error cuadrático medio, y además tiene la propiedad de ser muy regular (de hecho, se puede imaginar como una parábola invertida). La fórmula es la siguiente:\n",
    "\n",
    "$$\\large \\epsilon(1-\\frac{x^2}{h^2}) \\: \\text{ for } \\: |x|<1$$\n",
    "\n",
    "La constante $ε$ se ha introducido para normalizar el núcleo y cumplir con todos los requisitos (de manera análoga, es posible extender el núcleo en el rango $(-h, h)$ para ser más consistente con otras funciones). Se muestra una representación gráfica en la siguiente captura de pantalla:\n",
    "\n",
    "\n",
    "<img src=\"https://drive.google.com/uc?export=view&id=1H1THjd6P4EaKAjUuDWYcaoUtZ1mUi0qD\" width = \"800\" align=\"center\"/>\n",
    "\n",
    "El núcleo puede volverse muy puntiagudo cuando $h → 0$. Sin embargo, dada su estructura matemática, siempre permanecerá muy regular; por lo tanto, en la mayoría de los casos, no es necesario usarlo como reemplazo del núcleo gaussiano (aunque este último tenga un error cuadrático medio ligeramente mayor). Además, como la función es discontinua en $x = ± h (K(x; h) = 0 $ para $|x| > h$), puede causar caídas rápidas en la estimación de densidad, especialmente en los límites, donde, por ejemplo, una función gaussiana disminuye muy suavemente.\n",
    "\n",
    "\n",
    "#### Kernel Exponencial\n",
    "Un núcleo muy puntiagudo es el exponencial. A diferencia del núcleo gaussiano, este núcleo tiene colas muy pesadas y un pico agudo.\n",
    "\n",
    "$$\\large \\epsilon \\: e^{-\\frac{|x|}{h}}$$\n",
    "\n",
    "<img src=\"https://drive.google.com/uc?export=view&id=1fQ1B4ezA26xQ6W2hfvJoLQexAU6kQtXX\" width = \"800\" align=\"center\"/>\n",
    "\n",
    "Como se puede observar, dicha función es adecuada para modelar distribuciones muy irregulares con una densidad altamente concentrada alrededor de puntos específicos. Por otro lado, el error puede volverse muy alto cuando el proceso de generación de datos es bastante regular con superficies suaves. Una buena medida teórica que se puede emplear para evaluar el rendimiento de un núcleo (y un ancho de banda) es el error cuadrático medio integrado (MISE, por sus siglas en inglés), definido de la siguiente manera.\n",
    "\n",
    "$$\\large MISE(K) = \\mathbb{E}\\biggl[\\int\\limits_{-\\infty}^{\\infty}(p_K(x)-p(x))^2 dx\\biggr]$$\n",
    "\n",
    "En la fórmula anterior, $p_K(x)$ es la densidad estimada, mientras que $p(x)$ es la real. Desafortunadamente, $p(x)$ es desconocida (de lo contrario, no necesitaríamos ninguna estimación); por lo tanto, este método solo se puede utilizar para evaluaciones teóricas (por ejemplo: la optimalidad del núcleo Epanechnikov). Sin embargo, es fácil entender que el $MISE$ será mayor siempre que el núcleo no pueda aproximarse a la superficie real. Dado que el núcleo exponencial salta hacia un pico muy abruptamente, solo puede ser adecuado en situaciones específicas. En todos los demás casos, su comportamiento conduce a $MISE$s más grandes, y por lo tanto, otros núcleos son preferibles.\n"
   ]
  }
 ],
 "metadata": {
  "language_info": {
   "name": "python"
  }
 },
 "nbformat": 4,
 "nbformat_minor": 2
}
