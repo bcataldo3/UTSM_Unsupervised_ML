{
  "nbformat": 4,
  "nbformat_minor": 0,
  "metadata": {
    "colab": {
      "provenance": []
    },
    "kernelspec": {
      "name": "python3",
      "display_name": "Python 3"
    },
    "language_info": {
      "name": "python"
    }
  },
  "cells": [
    {
      "cell_type": "markdown",
      "source": [
        "# TITULO DEL EJEMPLO DE JUPYTER"
      ],
      "metadata": {
        "id": "n86oduBLsBEr"
      }
    },
    {
      "cell_type": "code",
      "execution_count": null,
      "metadata": {
        "id": "whMzEe7lr4FZ"
      },
      "outputs": [],
      "source": [
        "print('Hola')"
      ]
    },
    {
      "cell_type": "markdown",
      "source": [],
      "metadata": {
        "id": "k_33EJnYr9Uq"
      }
    },
    {
      "cell_type": "markdown",
      "source": [],
      "metadata": {
        "id": "CunXlHhFr5hC"
      }
    }
  ]
}