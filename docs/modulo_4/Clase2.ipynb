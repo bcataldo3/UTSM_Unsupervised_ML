{
  "cells": [
    {
      "cell_type": "markdown",
      "id": "d62f3fac",
      "metadata": {
        "id": "d62f3fac"
      },
      "source": [
        "# Clase 2: Librería Chainladder\n",
        "\n",
        "<a href=\"https://colab.research.google.com/github/andesanalytics/python/blob/main/docs/modulo_4/Clase2.ipynb\" target=\"_parent\"><img src=\"https://colab.research.google.com/assets/colab-badge.svg\" alt=\"Open In Colab\"/></a>\n",
        "\n",
        "## Introducción a Chainladder\n",
        "\n",
        "+ La biblioteca `chainladder` de Python es una herramienta utilizada en el análisis actuarial,\n",
        "principalmente en el ámbito de seguros.\n",
        "\n",
        "+ Su principal función es ayudar en la estimación de reservas de siniestros ocurridos y no reportados.\n",
        "\n",
        "+ La librería posee multiples técnicas de proyección, que se basan en el análisis de triángulos de desarrollo de pérdidas, que\n",
        "permiten proyectar los siniestros futuros basados en los datos históricos\n"
      ]
    },
    {
      "cell_type": "markdown",
      "id": "891e523f",
      "metadata": {
        "id": "891e523f"
      },
      "source": [
        "\n",
        "## Instalación y Configuración\n",
        "\n",
        "Para instalar la biblioteca `chainladder`, ejecuta el siguiente comando en tu entorno Python:\n"
      ]
    },
    {
      "cell_type": "code",
      "execution_count": 2,
      "id": "1c5f2e20",
      "metadata": {
        "colab": {
          "base_uri": "https://localhost:8080/"
        },
        "id": "1c5f2e20",
        "outputId": "2de9891b-4b2c-4081-c7e7-a99f23fa3dd3"
      },
      "outputs": [
        {
          "output_type": "stream",
          "name": "stdout",
          "text": [
            "Collecting chainladder\n",
            "  Downloading chainladder-0.8.18-py3-none-any.whl (1.3 MB)\n",
            "\u001b[?25l     \u001b[90m━━━━━━━━━━━━━━━━━━━━━━━━━━━━━━━━━━━━━━━━\u001b[0m \u001b[32m0.0/1.3 MB\u001b[0m \u001b[31m?\u001b[0m eta \u001b[36m-:--:--\u001b[0m\r\u001b[2K     \u001b[91m━━━━━━\u001b[0m\u001b[91m╸\u001b[0m\u001b[90m━━━━━━━━━━━━━━━━━━━━━━━━━━━━━━━━━\u001b[0m \u001b[32m0.2/1.3 MB\u001b[0m \u001b[31m6.8 MB/s\u001b[0m eta \u001b[36m0:00:01\u001b[0m\r\u001b[2K     \u001b[91m━━━━━━━━━━━━━━━━━━━━━━\u001b[0m\u001b[90m╺\u001b[0m\u001b[90m━━━━━━━━━━━━━━━━━\u001b[0m \u001b[32m0.7/1.3 MB\u001b[0m \u001b[31m10.8 MB/s\u001b[0m eta \u001b[36m0:00:01\u001b[0m\r\u001b[2K     \u001b[91m━━━━━━━━━━━━━━━━━━━━━━━━━━━━━━━━━━━━━━━\u001b[0m\u001b[91m╸\u001b[0m \u001b[32m1.3/1.3 MB\u001b[0m \u001b[31m13.0 MB/s\u001b[0m eta \u001b[36m0:00:01\u001b[0m\r\u001b[2K     \u001b[90m━━━━━━━━━━━━━━━━━━━━━━━━━━━━━━━━━━━━━━━━\u001b[0m \u001b[32m1.3/1.3 MB\u001b[0m \u001b[31m10.8 MB/s\u001b[0m eta \u001b[36m0:00:00\u001b[0m\n",
            "\u001b[?25hRequirement already satisfied: pandas>=0.23 in /usr/local/lib/python3.10/dist-packages (from chainladder) (1.5.3)\n",
            "Requirement already satisfied: scikit-learn>=0.23 in /usr/local/lib/python3.10/dist-packages (from chainladder) (1.2.2)\n",
            "Requirement already satisfied: numba>0.54 in /usr/local/lib/python3.10/dist-packages (from chainladder) (0.58.1)\n",
            "Collecting sparse>=0.9 (from chainladder)\n",
            "  Downloading sparse-0.15.1-py2.py3-none-any.whl (116 kB)\n",
            "\u001b[2K     \u001b[90m━━━━━━━━━━━━━━━━━━━━━━━━━━━━━━━━━━━━━━━━\u001b[0m \u001b[32m116.3/116.3 kB\u001b[0m \u001b[31m12.2 MB/s\u001b[0m eta \u001b[36m0:00:00\u001b[0m\n",
            "\u001b[?25hRequirement already satisfied: matplotlib in /usr/local/lib/python3.10/dist-packages (from chainladder) (3.7.1)\n",
            "Collecting dill (from chainladder)\n",
            "  Downloading dill-0.3.8-py3-none-any.whl (116 kB)\n",
            "\u001b[2K     \u001b[90m━━━━━━━━━━━━━━━━━━━━━━━━━━━━━━━━━━━━━━━━\u001b[0m \u001b[32m116.3/116.3 kB\u001b[0m \u001b[31m10.7 MB/s\u001b[0m eta \u001b[36m0:00:00\u001b[0m\n",
            "\u001b[?25hRequirement already satisfied: patsy in /usr/local/lib/python3.10/dist-packages (from chainladder) (0.5.6)\n",
            "Requirement already satisfied: llvmlite<0.42,>=0.41.0dev0 in /usr/local/lib/python3.10/dist-packages (from numba>0.54->chainladder) (0.41.1)\n",
            "Requirement already satisfied: numpy<1.27,>=1.22 in /usr/local/lib/python3.10/dist-packages (from numba>0.54->chainladder) (1.25.2)\n",
            "Requirement already satisfied: python-dateutil>=2.8.1 in /usr/local/lib/python3.10/dist-packages (from pandas>=0.23->chainladder) (2.8.2)\n",
            "Requirement already satisfied: pytz>=2020.1 in /usr/local/lib/python3.10/dist-packages (from pandas>=0.23->chainladder) (2023.4)\n",
            "Requirement already satisfied: scipy>=1.3.2 in /usr/local/lib/python3.10/dist-packages (from scikit-learn>=0.23->chainladder) (1.11.4)\n",
            "Requirement already satisfied: joblib>=1.1.1 in /usr/local/lib/python3.10/dist-packages (from scikit-learn>=0.23->chainladder) (1.3.2)\n",
            "Requirement already satisfied: threadpoolctl>=2.0.0 in /usr/local/lib/python3.10/dist-packages (from scikit-learn>=0.23->chainladder) (3.3.0)\n",
            "Requirement already satisfied: contourpy>=1.0.1 in /usr/local/lib/python3.10/dist-packages (from matplotlib->chainladder) (1.2.0)\n",
            "Requirement already satisfied: cycler>=0.10 in /usr/local/lib/python3.10/dist-packages (from matplotlib->chainladder) (0.12.1)\n",
            "Requirement already satisfied: fonttools>=4.22.0 in /usr/local/lib/python3.10/dist-packages (from matplotlib->chainladder) (4.49.0)\n",
            "Requirement already satisfied: kiwisolver>=1.0.1 in /usr/local/lib/python3.10/dist-packages (from matplotlib->chainladder) (1.4.5)\n",
            "Requirement already satisfied: packaging>=20.0 in /usr/local/lib/python3.10/dist-packages (from matplotlib->chainladder) (23.2)\n",
            "Requirement already satisfied: pillow>=6.2.0 in /usr/local/lib/python3.10/dist-packages (from matplotlib->chainladder) (9.4.0)\n",
            "Requirement already satisfied: pyparsing>=2.3.1 in /usr/local/lib/python3.10/dist-packages (from matplotlib->chainladder) (3.1.1)\n",
            "Requirement already satisfied: six in /usr/local/lib/python3.10/dist-packages (from patsy->chainladder) (1.16.0)\n",
            "Installing collected packages: dill, sparse, chainladder\n",
            "Successfully installed chainladder-0.8.18 dill-0.3.8 sparse-0.15.1\n"
          ]
        }
      ],
      "source": [
        "pip install chainladder"
      ]
    },
    {
      "cell_type": "markdown",
      "id": "62fe5f27",
      "metadata": {
        "id": "62fe5f27"
      },
      "source": [
        "Una vez instalada, puedes importarla y verificar su versión para asegurarte de que está correctamente instalada:"
      ]
    },
    {
      "cell_type": "code",
      "execution_count": 3,
      "id": "c9b898f6",
      "metadata": {
        "colab": {
          "base_uri": "https://localhost:8080/"
        },
        "id": "c9b898f6",
        "outputId": "3975ed5b-6140-4ff8-8c09-3db773e07c4a"
      },
      "outputs": [
        {
          "output_type": "stream",
          "name": "stdout",
          "text": [
            "0.8.18\n"
          ]
        }
      ],
      "source": [
        "import chainladder as cl\n",
        "print(cl.__version__)"
      ]
    },
    {
      "cell_type": "markdown",
      "id": "69c38534",
      "metadata": {
        "id": "69c38534"
      },
      "source": [
        "## Manejo de Datos: Propiedades Básicas\n",
        "+ El paquete chainladder tiene su propia estructura de datos `:class:Triangle` que se comporta de manera muy similar a un `DataFrame` de ``pandas``\n",
        "+ Por qué no ``pandas``? Principalmente porque podemos manejar multiples triángulos al mismo tiempo, junto con la eficiencia en memoria\n",
        "+ La estructura `Triangle` es una estructura de datos en 4D con ejes etiquetados. Estos ejes son ``index``, ``columns``, ``origin``, ``development``\n",
        "\n",
        "\n",
        "``index`` (axis 0): Es la agrupación mínima a la cual se requiera ver los datos (por ejemplo por producto, tipo de negocio, ramo fecu). Tal como en ``pandas.multiIndex``, se pueden tener más de una columa dentro de `index`\n",
        "\n",
        "``columns`` (axis 1): Son el o los valores numéricos que deseas agrupar en triángulo. Si bien el valor obvio a acumular es el de siniestros pagados, también puedes tener otros triángulos como el número de siniestros, o los siniestros pendientes por ejemplo.\n",
        "\n",
        "``origin`` (axis 2): Es el eje vertical dentro de un triángulo tradicional. Corresponde al mes, trimestre, semestre o año en el cual ocurrió el siniestro. La periodicidad se puede definir por el usuario.\n",
        "\n",
        "``development`` (axis 3): Es el eje horizontal del triángulo. Representa el periodo en que el siniestro fue reportado. Al igual que el eje `origin` se puede tomar la periodicidad mensual, trimestral, semestral, anual.\n",
        "\n",
        "### ¿Cómo se trabaja con una clase ``Triangle``?\n",
        "+ Independiente de poseer 4 dimensiones, esta clase permite que se interactúe con él de la misma manera que en `pandas`. Puedes usar los ejes `index` y `columns` de la misma manera que en un `DataFrame`, donde cada elemento será un triángulo tradicional. La siguiente imagen muestra como sería la estructura de la clase.\n",
        "\n",
        "\n",
        "\n",
        "\n",
        "### ¿Cómo se construye una clase ``Triangle``?\n",
        "\n",
        "+ Una clase `Triangle` se crea a partir de un `DataFrame` de `pandas`, el cuál debe poseer como mínimo las siguientes columnas.\n",
        "    * Dos columnas de tipo fecha que representen los ejes ``origin`` y ``development``.\n",
        "    * Una columna numérica que represente el eje ``columns``\n",
        "\n"
      ]
    },
    {
      "cell_type": "code",
      "execution_count": 4,
      "id": "4270bd68",
      "metadata": {
        "colab": {
          "base_uri": "https://localhost:8080/",
          "height": 363
        },
        "id": "4270bd68",
        "outputId": "1e9331dc-95c1-4db7-8108-e81726880b49"
      },
      "outputs": [
        {
          "output_type": "execute_result",
          "data": {
            "text/plain": [
              "   development  origin  values\n",
              "0         1981    1981  5012.0\n",
              "1         1982    1982   106.0\n",
              "2         1983    1983  3410.0\n",
              "3         1984    1984  5655.0\n",
              "4         1985    1985  1092.0\n",
              "5         1986    1986  1513.0\n",
              "6         1987    1987   557.0\n",
              "7         1988    1988  1351.0\n",
              "8         1989    1989  3133.0\n",
              "9         1990    1990  2063.0"
            ],
            "text/html": [
              "\n",
              "  <div id=\"df-3254893c-427e-4a31-9bf2-675821335c50\" class=\"colab-df-container\">\n",
              "    <div>\n",
              "<style scoped>\n",
              "    .dataframe tbody tr th:only-of-type {\n",
              "        vertical-align: middle;\n",
              "    }\n",
              "\n",
              "    .dataframe tbody tr th {\n",
              "        vertical-align: top;\n",
              "    }\n",
              "\n",
              "    .dataframe thead th {\n",
              "        text-align: right;\n",
              "    }\n",
              "</style>\n",
              "<table border=\"1\" class=\"dataframe\">\n",
              "  <thead>\n",
              "    <tr style=\"text-align: right;\">\n",
              "      <th></th>\n",
              "      <th>development</th>\n",
              "      <th>origin</th>\n",
              "      <th>values</th>\n",
              "    </tr>\n",
              "  </thead>\n",
              "  <tbody>\n",
              "    <tr>\n",
              "      <th>0</th>\n",
              "      <td>1981</td>\n",
              "      <td>1981</td>\n",
              "      <td>5012.0</td>\n",
              "    </tr>\n",
              "    <tr>\n",
              "      <th>1</th>\n",
              "      <td>1982</td>\n",
              "      <td>1982</td>\n",
              "      <td>106.0</td>\n",
              "    </tr>\n",
              "    <tr>\n",
              "      <th>2</th>\n",
              "      <td>1983</td>\n",
              "      <td>1983</td>\n",
              "      <td>3410.0</td>\n",
              "    </tr>\n",
              "    <tr>\n",
              "      <th>3</th>\n",
              "      <td>1984</td>\n",
              "      <td>1984</td>\n",
              "      <td>5655.0</td>\n",
              "    </tr>\n",
              "    <tr>\n",
              "      <th>4</th>\n",
              "      <td>1985</td>\n",
              "      <td>1985</td>\n",
              "      <td>1092.0</td>\n",
              "    </tr>\n",
              "    <tr>\n",
              "      <th>5</th>\n",
              "      <td>1986</td>\n",
              "      <td>1986</td>\n",
              "      <td>1513.0</td>\n",
              "    </tr>\n",
              "    <tr>\n",
              "      <th>6</th>\n",
              "      <td>1987</td>\n",
              "      <td>1987</td>\n",
              "      <td>557.0</td>\n",
              "    </tr>\n",
              "    <tr>\n",
              "      <th>7</th>\n",
              "      <td>1988</td>\n",
              "      <td>1988</td>\n",
              "      <td>1351.0</td>\n",
              "    </tr>\n",
              "    <tr>\n",
              "      <th>8</th>\n",
              "      <td>1989</td>\n",
              "      <td>1989</td>\n",
              "      <td>3133.0</td>\n",
              "    </tr>\n",
              "    <tr>\n",
              "      <th>9</th>\n",
              "      <td>1990</td>\n",
              "      <td>1990</td>\n",
              "      <td>2063.0</td>\n",
              "    </tr>\n",
              "  </tbody>\n",
              "</table>\n",
              "</div>\n",
              "    <div class=\"colab-df-buttons\">\n",
              "\n",
              "  <div class=\"colab-df-container\">\n",
              "    <button class=\"colab-df-convert\" onclick=\"convertToInteractive('df-3254893c-427e-4a31-9bf2-675821335c50')\"\n",
              "            title=\"Convert this dataframe to an interactive table.\"\n",
              "            style=\"display:none;\">\n",
              "\n",
              "  <svg xmlns=\"http://www.w3.org/2000/svg\" height=\"24px\" viewBox=\"0 -960 960 960\">\n",
              "    <path d=\"M120-120v-720h720v720H120Zm60-500h600v-160H180v160Zm220 220h160v-160H400v160Zm0 220h160v-160H400v160ZM180-400h160v-160H180v160Zm440 0h160v-160H620v160ZM180-180h160v-160H180v160Zm440 0h160v-160H620v160Z\"/>\n",
              "  </svg>\n",
              "    </button>\n",
              "\n",
              "  <style>\n",
              "    .colab-df-container {\n",
              "      display:flex;\n",
              "      gap: 12px;\n",
              "    }\n",
              "\n",
              "    .colab-df-convert {\n",
              "      background-color: #E8F0FE;\n",
              "      border: none;\n",
              "      border-radius: 50%;\n",
              "      cursor: pointer;\n",
              "      display: none;\n",
              "      fill: #1967D2;\n",
              "      height: 32px;\n",
              "      padding: 0 0 0 0;\n",
              "      width: 32px;\n",
              "    }\n",
              "\n",
              "    .colab-df-convert:hover {\n",
              "      background-color: #E2EBFA;\n",
              "      box-shadow: 0px 1px 2px rgba(60, 64, 67, 0.3), 0px 1px 3px 1px rgba(60, 64, 67, 0.15);\n",
              "      fill: #174EA6;\n",
              "    }\n",
              "\n",
              "    .colab-df-buttons div {\n",
              "      margin-bottom: 4px;\n",
              "    }\n",
              "\n",
              "    [theme=dark] .colab-df-convert {\n",
              "      background-color: #3B4455;\n",
              "      fill: #D2E3FC;\n",
              "    }\n",
              "\n",
              "    [theme=dark] .colab-df-convert:hover {\n",
              "      background-color: #434B5C;\n",
              "      box-shadow: 0px 1px 3px 1px rgba(0, 0, 0, 0.15);\n",
              "      filter: drop-shadow(0px 1px 2px rgba(0, 0, 0, 0.3));\n",
              "      fill: #FFFFFF;\n",
              "    }\n",
              "  </style>\n",
              "\n",
              "    <script>\n",
              "      const buttonEl =\n",
              "        document.querySelector('#df-3254893c-427e-4a31-9bf2-675821335c50 button.colab-df-convert');\n",
              "      buttonEl.style.display =\n",
              "        google.colab.kernel.accessAllowed ? 'block' : 'none';\n",
              "\n",
              "      async function convertToInteractive(key) {\n",
              "        const element = document.querySelector('#df-3254893c-427e-4a31-9bf2-675821335c50');\n",
              "        const dataTable =\n",
              "          await google.colab.kernel.invokeFunction('convertToInteractive',\n",
              "                                                    [key], {});\n",
              "        if (!dataTable) return;\n",
              "\n",
              "        const docLinkHtml = 'Like what you see? Visit the ' +\n",
              "          '<a target=\"_blank\" href=https://colab.research.google.com/notebooks/data_table.ipynb>data table notebook</a>'\n",
              "          + ' to learn more about interactive tables.';\n",
              "        element.innerHTML = '';\n",
              "        dataTable['output_type'] = 'display_data';\n",
              "        await google.colab.output.renderOutput(dataTable, element);\n",
              "        const docLink = document.createElement('div');\n",
              "        docLink.innerHTML = docLinkHtml;\n",
              "        element.appendChild(docLink);\n",
              "      }\n",
              "    </script>\n",
              "  </div>\n",
              "\n",
              "\n",
              "<div id=\"df-fe5c0380-f422-434b-a04c-0d04f0101792\">\n",
              "  <button class=\"colab-df-quickchart\" onclick=\"quickchart('df-fe5c0380-f422-434b-a04c-0d04f0101792')\"\n",
              "            title=\"Suggest charts\"\n",
              "            style=\"display:none;\">\n",
              "\n",
              "<svg xmlns=\"http://www.w3.org/2000/svg\" height=\"24px\"viewBox=\"0 0 24 24\"\n",
              "     width=\"24px\">\n",
              "    <g>\n",
              "        <path d=\"M19 3H5c-1.1 0-2 .9-2 2v14c0 1.1.9 2 2 2h14c1.1 0 2-.9 2-2V5c0-1.1-.9-2-2-2zM9 17H7v-7h2v7zm4 0h-2V7h2v10zm4 0h-2v-4h2v4z\"/>\n",
              "    </g>\n",
              "</svg>\n",
              "  </button>\n",
              "\n",
              "<style>\n",
              "  .colab-df-quickchart {\n",
              "      --bg-color: #E8F0FE;\n",
              "      --fill-color: #1967D2;\n",
              "      --hover-bg-color: #E2EBFA;\n",
              "      --hover-fill-color: #174EA6;\n",
              "      --disabled-fill-color: #AAA;\n",
              "      --disabled-bg-color: #DDD;\n",
              "  }\n",
              "\n",
              "  [theme=dark] .colab-df-quickchart {\n",
              "      --bg-color: #3B4455;\n",
              "      --fill-color: #D2E3FC;\n",
              "      --hover-bg-color: #434B5C;\n",
              "      --hover-fill-color: #FFFFFF;\n",
              "      --disabled-bg-color: #3B4455;\n",
              "      --disabled-fill-color: #666;\n",
              "  }\n",
              "\n",
              "  .colab-df-quickchart {\n",
              "    background-color: var(--bg-color);\n",
              "    border: none;\n",
              "    border-radius: 50%;\n",
              "    cursor: pointer;\n",
              "    display: none;\n",
              "    fill: var(--fill-color);\n",
              "    height: 32px;\n",
              "    padding: 0;\n",
              "    width: 32px;\n",
              "  }\n",
              "\n",
              "  .colab-df-quickchart:hover {\n",
              "    background-color: var(--hover-bg-color);\n",
              "    box-shadow: 0 1px 2px rgba(60, 64, 67, 0.3), 0 1px 3px 1px rgba(60, 64, 67, 0.15);\n",
              "    fill: var(--button-hover-fill-color);\n",
              "  }\n",
              "\n",
              "  .colab-df-quickchart-complete:disabled,\n",
              "  .colab-df-quickchart-complete:disabled:hover {\n",
              "    background-color: var(--disabled-bg-color);\n",
              "    fill: var(--disabled-fill-color);\n",
              "    box-shadow: none;\n",
              "  }\n",
              "\n",
              "  .colab-df-spinner {\n",
              "    border: 2px solid var(--fill-color);\n",
              "    border-color: transparent;\n",
              "    border-bottom-color: var(--fill-color);\n",
              "    animation:\n",
              "      spin 1s steps(1) infinite;\n",
              "  }\n",
              "\n",
              "  @keyframes spin {\n",
              "    0% {\n",
              "      border-color: transparent;\n",
              "      border-bottom-color: var(--fill-color);\n",
              "      border-left-color: var(--fill-color);\n",
              "    }\n",
              "    20% {\n",
              "      border-color: transparent;\n",
              "      border-left-color: var(--fill-color);\n",
              "      border-top-color: var(--fill-color);\n",
              "    }\n",
              "    30% {\n",
              "      border-color: transparent;\n",
              "      border-left-color: var(--fill-color);\n",
              "      border-top-color: var(--fill-color);\n",
              "      border-right-color: var(--fill-color);\n",
              "    }\n",
              "    40% {\n",
              "      border-color: transparent;\n",
              "      border-right-color: var(--fill-color);\n",
              "      border-top-color: var(--fill-color);\n",
              "    }\n",
              "    60% {\n",
              "      border-color: transparent;\n",
              "      border-right-color: var(--fill-color);\n",
              "    }\n",
              "    80% {\n",
              "      border-color: transparent;\n",
              "      border-right-color: var(--fill-color);\n",
              "      border-bottom-color: var(--fill-color);\n",
              "    }\n",
              "    90% {\n",
              "      border-color: transparent;\n",
              "      border-bottom-color: var(--fill-color);\n",
              "    }\n",
              "  }\n",
              "</style>\n",
              "\n",
              "  <script>\n",
              "    async function quickchart(key) {\n",
              "      const quickchartButtonEl =\n",
              "        document.querySelector('#' + key + ' button');\n",
              "      quickchartButtonEl.disabled = true;  // To prevent multiple clicks.\n",
              "      quickchartButtonEl.classList.add('colab-df-spinner');\n",
              "      try {\n",
              "        const charts = await google.colab.kernel.invokeFunction(\n",
              "            'suggestCharts', [key], {});\n",
              "      } catch (error) {\n",
              "        console.error('Error during call to suggestCharts:', error);\n",
              "      }\n",
              "      quickchartButtonEl.classList.remove('colab-df-spinner');\n",
              "      quickchartButtonEl.classList.add('colab-df-quickchart-complete');\n",
              "    }\n",
              "    (() => {\n",
              "      let quickchartButtonEl =\n",
              "        document.querySelector('#df-fe5c0380-f422-434b-a04c-0d04f0101792 button');\n",
              "      quickchartButtonEl.style.display =\n",
              "        google.colab.kernel.accessAllowed ? 'block' : 'none';\n",
              "    })();\n",
              "  </script>\n",
              "</div>\n",
              "\n",
              "    </div>\n",
              "  </div>\n"
            ],
            "application/vnd.google.colaboratory.intrinsic+json": {
              "type": "dataframe",
              "variable_name": "raa_df",
              "summary": "{\n  \"name\": \"raa_df\",\n  \"rows\": 55,\n  \"fields\": [\n    {\n      \"column\": \"development\",\n      \"properties\": {\n        \"dtype\": \"number\",\n        \"std\": 2,\n        \"min\": 1981,\n        \"max\": 1990,\n        \"num_unique_values\": 10,\n        \"samples\": [\n          1989,\n          1982,\n          1986\n        ],\n        \"semantic_type\": \"\",\n        \"description\": \"\"\n      }\n    },\n    {\n      \"column\": \"origin\",\n      \"properties\": {\n        \"dtype\": \"number\",\n        \"std\": 2,\n        \"min\": 1981,\n        \"max\": 1990,\n        \"num_unique_values\": 10,\n        \"samples\": [\n          1989,\n          1982,\n          1986\n        ],\n        \"semantic_type\": \"\",\n        \"description\": \"\"\n      }\n    },\n    {\n      \"column\": \"values\",\n      \"properties\": {\n        \"dtype\": \"number\",\n        \"std\": 7551.31876247621,\n        \"min\": 106.0,\n        \"max\": 27067.0,\n        \"num_unique_values\": 55,\n        \"samples\": [\n          22169.0,\n          1513.0,\n          12935.0\n        ],\n        \"semantic_type\": \"\",\n        \"description\": \"\"\n      }\n    }\n  ]\n}"
            }
          },
          "metadata": {},
          "execution_count": 4
        }
      ],
      "source": [
        "import pandas as pd\n",
        "raa_df = pd.read_csv(\"https://raw.githubusercontent.com/casact/chainladder-python/master/chainladder/utils/data/raa.csv\")\n",
        "raa_df.head(10)"
      ]
    },
    {
      "cell_type": "markdown",
      "id": "a858ac34",
      "metadata": {
        "id": "a858ac34"
      },
      "source": [
        "Vemos que dataframe cargado posee las columnas mínimas requeridas.\n",
        "La forma para obtener una clase de tipo `Triangle` se obtiene con el método `Triangle`"
      ]
    },
    {
      "cell_type": "code",
      "execution_count": 5,
      "id": "e635385a",
      "metadata": {
        "colab": {
          "base_uri": "https://localhost:8080/",
          "height": 380
        },
        "id": "e635385a",
        "outputId": "04101145-0721-41d8-c4e6-72706d9fbcd1"
      },
      "outputs": [
        {
          "output_type": "stream",
          "name": "stdout",
          "text": [
            "(1, 1, 10, 10)\n"
          ]
        },
        {
          "output_type": "execute_result",
          "data": {
            "text/plain": [
              "         12       24       36       48       60       72       84       96       108      120\n",
              "1981  5012.0   8269.0  10907.0  11805.0  13539.0  16181.0  18009.0  18608.0  18662.0  18834.0\n",
              "1982   106.0   4285.0   5396.0  10666.0  13782.0  15599.0  15496.0  16169.0  16704.0      NaN\n",
              "1983  3410.0   8992.0  13873.0  16141.0  18735.0  22214.0  22863.0  23466.0      NaN      NaN\n",
              "1984  5655.0  11555.0  15766.0  21266.0  23425.0  26083.0  27067.0      NaN      NaN      NaN\n",
              "1985  1092.0   9565.0  15836.0  22169.0  25955.0  26180.0      NaN      NaN      NaN      NaN\n",
              "1986  1513.0   6445.0  11702.0  12935.0  15852.0      NaN      NaN      NaN      NaN      NaN\n",
              "1987   557.0   4020.0  10946.0  12314.0      NaN      NaN      NaN      NaN      NaN      NaN\n",
              "1988  1351.0   6947.0  13112.0      NaN      NaN      NaN      NaN      NaN      NaN      NaN\n",
              "1989  3133.0   5395.0      NaN      NaN      NaN      NaN      NaN      NaN      NaN      NaN\n",
              "1990  2063.0      NaN      NaN      NaN      NaN      NaN      NaN      NaN      NaN      NaN"
            ],
            "text/html": [
              "<table border=\"1\" class=\"dataframe\">\n",
              "  <thead>\n",
              "    <tr style=\"text-align: right;\">\n",
              "      <th></th>\n",
              "      <th>12</th>\n",
              "      <th>24</th>\n",
              "      <th>36</th>\n",
              "      <th>48</th>\n",
              "      <th>60</th>\n",
              "      <th>72</th>\n",
              "      <th>84</th>\n",
              "      <th>96</th>\n",
              "      <th>108</th>\n",
              "      <th>120</th>\n",
              "    </tr>\n",
              "  </thead>\n",
              "  <tbody>\n",
              "    <tr>\n",
              "      <th>1981</th>\n",
              "      <td>5,012</td>\n",
              "      <td>8,269</td>\n",
              "      <td>10,907</td>\n",
              "      <td>11,805</td>\n",
              "      <td>13,539</td>\n",
              "      <td>16,181</td>\n",
              "      <td>18,009</td>\n",
              "      <td>18,608</td>\n",
              "      <td>18,662</td>\n",
              "      <td>18,834</td>\n",
              "    </tr>\n",
              "    <tr>\n",
              "      <th>1982</th>\n",
              "      <td>106</td>\n",
              "      <td>4,285</td>\n",
              "      <td>5,396</td>\n",
              "      <td>10,666</td>\n",
              "      <td>13,782</td>\n",
              "      <td>15,599</td>\n",
              "      <td>15,496</td>\n",
              "      <td>16,169</td>\n",
              "      <td>16,704</td>\n",
              "      <td></td>\n",
              "    </tr>\n",
              "    <tr>\n",
              "      <th>1983</th>\n",
              "      <td>3,410</td>\n",
              "      <td>8,992</td>\n",
              "      <td>13,873</td>\n",
              "      <td>16,141</td>\n",
              "      <td>18,735</td>\n",
              "      <td>22,214</td>\n",
              "      <td>22,863</td>\n",
              "      <td>23,466</td>\n",
              "      <td></td>\n",
              "      <td></td>\n",
              "    </tr>\n",
              "    <tr>\n",
              "      <th>1984</th>\n",
              "      <td>5,655</td>\n",
              "      <td>11,555</td>\n",
              "      <td>15,766</td>\n",
              "      <td>21,266</td>\n",
              "      <td>23,425</td>\n",
              "      <td>26,083</td>\n",
              "      <td>27,067</td>\n",
              "      <td></td>\n",
              "      <td></td>\n",
              "      <td></td>\n",
              "    </tr>\n",
              "    <tr>\n",
              "      <th>1985</th>\n",
              "      <td>1,092</td>\n",
              "      <td>9,565</td>\n",
              "      <td>15,836</td>\n",
              "      <td>22,169</td>\n",
              "      <td>25,955</td>\n",
              "      <td>26,180</td>\n",
              "      <td></td>\n",
              "      <td></td>\n",
              "      <td></td>\n",
              "      <td></td>\n",
              "    </tr>\n",
              "    <tr>\n",
              "      <th>1986</th>\n",
              "      <td>1,513</td>\n",
              "      <td>6,445</td>\n",
              "      <td>11,702</td>\n",
              "      <td>12,935</td>\n",
              "      <td>15,852</td>\n",
              "      <td></td>\n",
              "      <td></td>\n",
              "      <td></td>\n",
              "      <td></td>\n",
              "      <td></td>\n",
              "    </tr>\n",
              "    <tr>\n",
              "      <th>1987</th>\n",
              "      <td>557</td>\n",
              "      <td>4,020</td>\n",
              "      <td>10,946</td>\n",
              "      <td>12,314</td>\n",
              "      <td></td>\n",
              "      <td></td>\n",
              "      <td></td>\n",
              "      <td></td>\n",
              "      <td></td>\n",
              "      <td></td>\n",
              "    </tr>\n",
              "    <tr>\n",
              "      <th>1988</th>\n",
              "      <td>1,351</td>\n",
              "      <td>6,947</td>\n",
              "      <td>13,112</td>\n",
              "      <td></td>\n",
              "      <td></td>\n",
              "      <td></td>\n",
              "      <td></td>\n",
              "      <td></td>\n",
              "      <td></td>\n",
              "      <td></td>\n",
              "    </tr>\n",
              "    <tr>\n",
              "      <th>1989</th>\n",
              "      <td>3,133</td>\n",
              "      <td>5,395</td>\n",
              "      <td></td>\n",
              "      <td></td>\n",
              "      <td></td>\n",
              "      <td></td>\n",
              "      <td></td>\n",
              "      <td></td>\n",
              "      <td></td>\n",
              "      <td></td>\n",
              "    </tr>\n",
              "    <tr>\n",
              "      <th>1990</th>\n",
              "      <td>2,063</td>\n",
              "      <td></td>\n",
              "      <td></td>\n",
              "      <td></td>\n",
              "      <td></td>\n",
              "      <td></td>\n",
              "      <td></td>\n",
              "      <td></td>\n",
              "      <td></td>\n",
              "      <td></td>\n",
              "    </tr>\n",
              "  </tbody>\n",
              "</table>"
            ]
          },
          "metadata": {},
          "execution_count": 5
        }
      ],
      "source": [
        "raa = cl.Triangle(raa_df,origin=\"origin\",development=\"development\",columns=\"values\",cumulative=True)\n",
        "print(raa.shape)\n",
        "raa"
      ]
    },
    {
      "cell_type": "markdown",
      "id": "3c64d761",
      "metadata": {
        "id": "3c64d761"
      },
      "source": [
        "+ Como se puede observar, la información fue agrupada como triángulo.\n",
        "+ Las dimensiones del triángulo indican 4 dimensiones, que corresponden a los ejes anteriormente comentados\n",
        "+ La visualización del triángulo cambiará si nuestra data contiene más de un valor en el eje ``columns`` o más de un valor en el eje `index`\n",
        "\n",
        "### ``Triangle`` en 4D\n",
        "Ahora revisemos el siguiente triangulo cargado de los datos de muestra de la librería"
      ]
    },
    {
      "cell_type": "code",
      "execution_count": 6,
      "id": "51050676",
      "metadata": {
        "colab": {
          "base_uri": "https://localhost:8080/",
          "height": 224
        },
        "id": "51050676",
        "outputId": "9539a061-929f-4730-e5d7-f55d26d9334c"
      },
      "outputs": [
        {
          "output_type": "stream",
          "name": "stdout",
          "text": [
            "(775, 6, 10, 10)\n"
          ]
        },
        {
          "output_type": "execute_result",
          "data": {
            "text/plain": [
              "                                             Triangle Summary\n",
              "Valuation:                                            1997-12\n",
              "Grain:                                                   OYDY\n",
              "Shape:                                       (775, 6, 10, 10)\n",
              "Index:                                          [GRNAME, LOB]\n",
              "Columns:    [IncurLoss, CumPaidLoss, BulkLoss, EarnedPremD..."
            ],
            "text/html": [
              "<table border=\"1\" class=\"dataframe\">\n",
              "  <thead>\n",
              "    <tr style=\"text-align: right;\">\n",
              "      <th></th>\n",
              "      <th>Triangle Summary</th>\n",
              "    </tr>\n",
              "  </thead>\n",
              "  <tbody>\n",
              "    <tr>\n",
              "      <th>Valuation:</th>\n",
              "      <td>1997-12</td>\n",
              "    </tr>\n",
              "    <tr>\n",
              "      <th>Grain:</th>\n",
              "      <td>OYDY</td>\n",
              "    </tr>\n",
              "    <tr>\n",
              "      <th>Shape:</th>\n",
              "      <td>(775, 6, 10, 10)</td>\n",
              "    </tr>\n",
              "    <tr>\n",
              "      <th>Index:</th>\n",
              "      <td>[GRNAME, LOB]</td>\n",
              "    </tr>\n",
              "    <tr>\n",
              "      <th>Columns:</th>\n",
              "      <td>[IncurLoss, CumPaidLoss, BulkLoss, EarnedPremDIR, EarnedPremCeded, EarnedPremNet]</td>\n",
              "    </tr>\n",
              "  </tbody>\n",
              "</table>"
            ]
          },
          "metadata": {},
          "execution_count": 6
        }
      ],
      "source": [
        "triangle = cl.load_sample('CLRD')\n",
        "print(triangle.shape)\n",
        "triangle"
      ]
    },
    {
      "cell_type": "markdown",
      "id": "48b052e5",
      "metadata": {
        "id": "48b052e5"
      },
      "source": [
        "Vemos que la forma de mostrar la data cambia, debido a que el eje ``index`` posee 775 diferentes niveles, mientras que el eje `columns` posee 6 distintas columnas para formar triángulos.\n",
        "\n",
        "### Parametro `cumulative`\n",
        "+ El parámetro ``cumulative`` indica si los datos que entregamos en el eje `columns` corresponden a datos acumulativos a la fecha o son los datos específicos de la fecha.\n",
        "+ Es completamente opcional. Si no se especifica, el Triángulo inferirá su estado ``cumulative/incremental`` en el punto en el que llame a los métodos ``cum_to_incr`` o ``incr_to_cum`` (que sirven para pasar de un estado a otro)\n",
        "+ El método `is_cumulative` nos permite saber si un triangulo tiene su parametro `cumulative` en `True` o `False`"
      ]
    },
    {
      "cell_type": "code",
      "execution_count": 11,
      "id": "eadeacda",
      "metadata": {
        "colab": {
          "base_uri": "https://localhost:8080/",
          "height": 363
        },
        "id": "eadeacda",
        "outputId": "d474f8e0-1794-45fc-bd1b-9f4e56ee2f1b"
      },
      "outputs": [
        {
          "output_type": "execute_result",
          "data": {
            "text/plain": [
              "         12      24      36      48      60      72      84     96     108    120\n",
              "1981  5012.0  3257.0  2638.0   898.0  1734.0  2642.0  1828.0  599.0   54.0  172.0\n",
              "1982   106.0  4179.0  1111.0  5270.0  3116.0  1817.0  -103.0  673.0  535.0    NaN\n",
              "1983  3410.0  5582.0  4881.0  2268.0  2594.0  3479.0   649.0  603.0    NaN    NaN\n",
              "1984  5655.0  5900.0  4211.0  5500.0  2159.0  2658.0   984.0    NaN    NaN    NaN\n",
              "1985  1092.0  8473.0  6271.0  6333.0  3786.0   225.0     NaN    NaN    NaN    NaN\n",
              "1986  1513.0  4932.0  5257.0  1233.0  2917.0     NaN     NaN    NaN    NaN    NaN\n",
              "1987   557.0  3463.0  6926.0  1368.0     NaN     NaN     NaN    NaN    NaN    NaN\n",
              "1988  1351.0  5596.0  6165.0     NaN     NaN     NaN     NaN    NaN    NaN    NaN\n",
              "1989  3133.0  2262.0     NaN     NaN     NaN     NaN     NaN    NaN    NaN    NaN\n",
              "1990  2063.0     NaN     NaN     NaN     NaN     NaN     NaN    NaN    NaN    NaN"
            ],
            "text/html": [
              "<table border=\"1\" class=\"dataframe\">\n",
              "  <thead>\n",
              "    <tr style=\"text-align: right;\">\n",
              "      <th></th>\n",
              "      <th>12</th>\n",
              "      <th>24</th>\n",
              "      <th>36</th>\n",
              "      <th>48</th>\n",
              "      <th>60</th>\n",
              "      <th>72</th>\n",
              "      <th>84</th>\n",
              "      <th>96</th>\n",
              "      <th>108</th>\n",
              "      <th>120</th>\n",
              "    </tr>\n",
              "  </thead>\n",
              "  <tbody>\n",
              "    <tr>\n",
              "      <th>1981</th>\n",
              "      <td>5,012</td>\n",
              "      <td>3,257</td>\n",
              "      <td>2,638</td>\n",
              "      <td>898</td>\n",
              "      <td>1,734</td>\n",
              "      <td>2,642</td>\n",
              "      <td>1,828</td>\n",
              "      <td>599</td>\n",
              "      <td>54</td>\n",
              "      <td>172</td>\n",
              "    </tr>\n",
              "    <tr>\n",
              "      <th>1982</th>\n",
              "      <td>106</td>\n",
              "      <td>4,179</td>\n",
              "      <td>1,111</td>\n",
              "      <td>5,270</td>\n",
              "      <td>3,116</td>\n",
              "      <td>1,817</td>\n",
              "      <td>-103</td>\n",
              "      <td>673</td>\n",
              "      <td>535</td>\n",
              "      <td></td>\n",
              "    </tr>\n",
              "    <tr>\n",
              "      <th>1983</th>\n",
              "      <td>3,410</td>\n",
              "      <td>5,582</td>\n",
              "      <td>4,881</td>\n",
              "      <td>2,268</td>\n",
              "      <td>2,594</td>\n",
              "      <td>3,479</td>\n",
              "      <td>649</td>\n",
              "      <td>603</td>\n",
              "      <td></td>\n",
              "      <td></td>\n",
              "    </tr>\n",
              "    <tr>\n",
              "      <th>1984</th>\n",
              "      <td>5,655</td>\n",
              "      <td>5,900</td>\n",
              "      <td>4,211</td>\n",
              "      <td>5,500</td>\n",
              "      <td>2,159</td>\n",
              "      <td>2,658</td>\n",
              "      <td>984</td>\n",
              "      <td></td>\n",
              "      <td></td>\n",
              "      <td></td>\n",
              "    </tr>\n",
              "    <tr>\n",
              "      <th>1985</th>\n",
              "      <td>1,092</td>\n",
              "      <td>8,473</td>\n",
              "      <td>6,271</td>\n",
              "      <td>6,333</td>\n",
              "      <td>3,786</td>\n",
              "      <td>225</td>\n",
              "      <td></td>\n",
              "      <td></td>\n",
              "      <td></td>\n",
              "      <td></td>\n",
              "    </tr>\n",
              "    <tr>\n",
              "      <th>1986</th>\n",
              "      <td>1,513</td>\n",
              "      <td>4,932</td>\n",
              "      <td>5,257</td>\n",
              "      <td>1,233</td>\n",
              "      <td>2,917</td>\n",
              "      <td></td>\n",
              "      <td></td>\n",
              "      <td></td>\n",
              "      <td></td>\n",
              "      <td></td>\n",
              "    </tr>\n",
              "    <tr>\n",
              "      <th>1987</th>\n",
              "      <td>557</td>\n",
              "      <td>3,463</td>\n",
              "      <td>6,926</td>\n",
              "      <td>1,368</td>\n",
              "      <td></td>\n",
              "      <td></td>\n",
              "      <td></td>\n",
              "      <td></td>\n",
              "      <td></td>\n",
              "      <td></td>\n",
              "    </tr>\n",
              "    <tr>\n",
              "      <th>1988</th>\n",
              "      <td>1,351</td>\n",
              "      <td>5,596</td>\n",
              "      <td>6,165</td>\n",
              "      <td></td>\n",
              "      <td></td>\n",
              "      <td></td>\n",
              "      <td></td>\n",
              "      <td></td>\n",
              "      <td></td>\n",
              "      <td></td>\n",
              "    </tr>\n",
              "    <tr>\n",
              "      <th>1989</th>\n",
              "      <td>3,133</td>\n",
              "      <td>2,262</td>\n",
              "      <td></td>\n",
              "      <td></td>\n",
              "      <td></td>\n",
              "      <td></td>\n",
              "      <td></td>\n",
              "      <td></td>\n",
              "      <td></td>\n",
              "      <td></td>\n",
              "    </tr>\n",
              "    <tr>\n",
              "      <th>1990</th>\n",
              "      <td>2,063</td>\n",
              "      <td></td>\n",
              "      <td></td>\n",
              "      <td></td>\n",
              "      <td></td>\n",
              "      <td></td>\n",
              "      <td></td>\n",
              "      <td></td>\n",
              "      <td></td>\n",
              "      <td></td>\n",
              "    </tr>\n",
              "  </tbody>\n",
              "</table>"
            ]
          },
          "metadata": {},
          "execution_count": 11
        }
      ],
      "source": [
        "raa.cum_to_incr()"
      ]
    },
    {
      "cell_type": "markdown",
      "id": "7825dfb0",
      "metadata": {
        "id": "7825dfb0"
      },
      "source": [
        "### Valoración vs Desarrollo\n",
        "Si bien la mayoría de los estimadores que utilizan triángulos esperan que el período de desarrollo se exprese como una edad sobre el periodo de origen (diagonal de abajo hacia arriba), es posible transformar un triángulo en un triángulo de valoración, donde los períodos de desarrollo se convierten en períodos de valoración (es decir con la diagonal de arriba hacia abajo) con el método `dev_to_val`\n",
        "\n",
        "Los triangulos poseen también la propiedad `is_val_tri` que indica si el triangulo está en modo valoración (diagonal de arriba hacia abajo)"
      ]
    },
    {
      "cell_type": "markdown",
      "id": "02471cef",
      "metadata": {
        "id": "02471cef"
      },
      "source": [
        "raa.dev_to_val()\n",
        "raa.is_val_tri"
      ]
    },
    {
      "cell_type": "markdown",
      "id": "e3dc9403",
      "metadata": {
        "id": "e3dc9403"
      },
      "source": [
        "### Granularidad del Triangulo\n",
        "Si el triángulo posee en sus ejes `origin` o `development` periodicidades más frecuentes a una anual (mensual, trimestral), se puede facilmente pasar a una granularidad mayor con el metodo `grain`. Este método reconoce las siguientes granularidades.\n",
        "+ Anual: Yearly (Y)\n",
        "+ Trimestral: Quarterly (Q)\n",
        "+ Mensual: Monthly (M)"
      ]
    },
    {
      "cell_type": "code",
      "execution_count": null,
      "id": "e49d794c",
      "metadata": {
        "id": "e49d794c"
      },
      "outputs": [],
      "source": [
        "# CARGAMOS DATA DE PRUEBA CON LA FUNCION load_sample()\n",
        "df_quarterly=cl.load_sample('quarterly')\n",
        "df_quarterly\n",
        "df_quarterly.grain('OYDY')"
      ]
    },
    {
      "cell_type": "markdown",
      "id": "b6b829ab",
      "metadata": {
        "id": "b6b829ab"
      },
      "source": [
        "### Link Ratios\n",
        "Los factores de desarrollo por cada periodo origen-desarrollo (también conocidos en inglés como *link ratios*) pueden ser visualizados con la propiedad ``link_ratio``. Los triángulos además tienen un método llamado ``heatmap`` que puedes llamar opcionalmente para darle formatos a las salidas del triángulo. Este metodo requiere de IPython/Jupyter notebook para ejecutarse."
      ]
    },
    {
      "cell_type": "code",
      "execution_count": null,
      "id": "827b5df7",
      "metadata": {
        "id": "827b5df7"
      },
      "outputs": [],
      "source": [
        "triangle_abc = cl.load_sample('abc')\n",
        "triangle_abc\n",
        "triangle_abc.link_ratio\n",
        "triangle_abc.link_ratio.heatmap()"
      ]
    },
    {
      "cell_type": "markdown",
      "id": "826c07e3",
      "metadata": {
        "id": "826c07e3"
      },
      "source": [
        "## Sintaxis Tipo Pandas\n",
        "### Filtros y Slicing\n",
        "Podemos filtrar y seleccionar triángulos de menor tamaño al igual que en pandas. Funciones como `iloc` o `loc` aplican de la misma manera.\n",
        "\n",
        "**Recordar que bajo la lógica de esta librería el eje `index` vendría siendo el eje de filas y el eje `columns` el de columnas en pandas.**"
      ]
    },
    {
      "cell_type": "code",
      "execution_count": null,
      "id": "dc205fe7",
      "metadata": {
        "id": "dc205fe7"
      },
      "outputs": [],
      "source": [
        "# Cargamos data con load_sample\n",
        "clrd = cl.load_sample('clrd')\n",
        "# Slicing con iloc\n",
        "clrd.iloc[0,1]\n",
        "# Filtros del eje ``index`` mediante una condicion\n",
        "clrd[clrd['LOB']=='othliab']\n",
        "# Filtro del eje `columns` mediante una selecion de columnas\n",
        "clrd['EarnedPremDIR']"
      ]
    },
    {
      "cell_type": "markdown",
      "id": "434bf503",
      "metadata": {
        "id": "434bf503"
      },
      "source": [
        "### Virtual Columns\n",
        "Hay casos en los que queremos posponer los cálculos, podemos crear columnas \"virtuales\" que pospongan los cálculos cuando sea necesario. Estas columnas se pueden crear envolviendo una columna normal en una función. Las expresiones lambda funcionan como una representación ordenada de columnas virtuales."
      ]
    },
    {
      "cell_type": "code",
      "execution_count": null,
      "id": "54573fcf",
      "metadata": {
        "id": "54573fcf"
      },
      "outputs": [],
      "source": [
        "clrd = cl.load_sample('clrd')\n",
        "# A physical column with immediate evaluation\n",
        "clrd['PaidLossRatio'] = clrd['CumPaidLoss'] / clrd['EarnedPremDIR']\n",
        "clrd.sum()['PaidLossRatio']\n",
        "# A virtual column with deferred evaluation\n",
        "clrd['PaidLossRatio'] = lambda clrd : clrd['CumPaidLoss'] / clrd['EarnedPremDIR']\n",
        "# Good - Defer loss ratio calculation until after summing premiums and losses\n",
        "clrd.sum()['PaidLossRatio']"
      ]
    },
    {
      "cell_type": "markdown",
      "id": "43d6fc27",
      "metadata": {
        "id": "43d6fc27"
      },
      "source": [
        "### Agregaciones\n",
        "Al igual que los pandas, puedes agregar múltiples triángulos dentro de un Triángulo usando ``sum()`` que opcionalmente puede combinarse con ``groupby()``."
      ]
    },
    {
      "cell_type": "code",
      "execution_count": null,
      "id": "8e824127",
      "metadata": {
        "id": "8e824127"
      },
      "outputs": [],
      "source": [
        "clrd = cl.load_sample('clrd')\n",
        "clrd.sum()\n",
        "clrd.groupby('LOB').sum()"
      ]
    },
    {
      "cell_type": "markdown",
      "id": "13baa1a5",
      "metadata": {
        "id": "13baa1a5"
      },
      "source": [
        "* Por defecto, la agregación se aplicará al primer eje con una longitud mayor que 1.\n",
        "* Alternativamente, puede especificar el eje usando el argumento ``axis`` del método agregado.\n",
        "\n",
        "### Convertir a ``DataFrame``\n",
        "Cuando un triángulo se presenta con un único nivel del eje ``index`` y una sola columna (eje `column`), se convierte en un objeto 2D (En un triángulo como vimos al comienzo). Como tal, su formato de visualización cambia a uno similar a un marco de datos. Estos triángulos 2D se pueden convertir fácilmente en un marco de datos de pandas utilizando el método ``to_frame``. A partir de este punto, los resultados se pueden operar directamente en pandas.\n",
        "\n",
        "La funcionalidad ``to_frame`` funciona cuando un Triángulo se divide en dos ejes cualesquiera y no se limita solo a `index` y `column`"
      ]
    },
    {
      "cell_type": "code",
      "execution_count": null,
      "id": "50e5e936",
      "metadata": {
        "id": "50e5e936"
      },
      "outputs": [],
      "source": [
        "clrd = cl.load_sample('clrd')\n",
        "clrd\n",
        "clrd[clrd['LOB']=='ppauto']['CumPaidLoss'].sum().to_frame()\n",
        "clrd['CumPaidLoss'].groupby('LOB').sum().latest_diagonal.to_frame()\n"
      ]
    },
    {
      "cell_type": "markdown",
      "id": "123037de",
      "metadata": {
        "id": "123037de"
      },
      "source": []
    },
    {
      "cell_type": "markdown",
      "id": "dee82ba2",
      "metadata": {
        "id": "dee82ba2"
      },
      "source": []
    },
    {
      "cell_type": "markdown",
      "id": "f1f6b510",
      "metadata": {
        "id": "f1f6b510"
      },
      "source": [
        "\n",
        "## Modelado Actuarial Básico\n",
        "\n",
        "El modelo Chainladder básico se puede aplicar de la siguiente manera:\n",
        "\n",
        "```python\n",
        "modelo = cl.Chainladder()\n",
        "resultado = modelo.fit(triangulo)\n",
        "print(resultado)\n",
        "```\n",
        "\n",
        "Este ejemplo muestra cómo ajustar el modelo Chainladder básico a un triángulo de desarrollo de pérdidas.\n"
      ]
    },
    {
      "cell_type": "markdown",
      "id": "8691052e",
      "metadata": {
        "id": "8691052e"
      },
      "source": [
        "\n",
        "## Métodos Avanzados de Modelado\n",
        "\n",
        "Además del modelo Chainladder básico, la biblioteca ofrece otros modelos como Bornhuetter-Ferguson.\n",
        "Aquí hay un ejemplo de cómo aplicarlo:\n",
        "\n",
        "```python\n",
        "modelo_bf = cl.BornhuetterFerguson()\n",
        "resultado_bf = modelo_bf.fit(triangulo)\n",
        "print(resultado_bf)\n",
        "```\n",
        "\n",
        "Este modelo combina los datos históricos con a prioris para hacer proyecciones.\n"
      ]
    },
    {
      "cell_type": "markdown",
      "id": "030cc733",
      "metadata": {
        "id": "030cc733"
      },
      "source": [
        "\n",
        "## Visualización y Reporte\n",
        "\n",
        "`chainladder` facilita la visualización de los resultados. Por ejemplo, puedes graficar los resultados\n",
        "del modelo:\n",
        "\n",
        "```python\n",
        "import matplotlib.pyplot as plt\n",
        "\n",
        "# Graficar los resultados\n",
        "triangulo.plot()\n",
        "plt.show()\n",
        "```\n",
        "\n",
        "Este código genera un gráfico del triángulo de desarrollo de pérdidas.\n"
      ]
    },
    {
      "cell_type": "markdown",
      "id": "a23bd33a",
      "metadata": {
        "id": "a23bd33a"
      },
      "source": [
        "\n",
        "## Ejemplos y Casos Prácticos\n",
        "\n",
        "Aquí puedes incluir varios ejemplos prácticos y casos de estudio utilizando conjuntos de datos reales\n",
        "o simulados para ilustrar cómo se puede aplicar `chainladder` en situaciones del mundo real.\n"
      ]
    },
    {
      "cell_type": "markdown",
      "id": "1cdf9deb",
      "metadata": {
        "id": "1cdf9deb"
      },
      "source": [
        "\n",
        "## Recursos Adicionales y Conclusión\n",
        "\n",
        "Para aprender más sobre `chainladder` y análisis actuarial, puedes consultar la documentación oficial\n",
        "y otros recursos en línea. Siempre es útil mantenerse al día con las últimas tendencias y técnicas en\n",
        "el campo actuarial.\n",
        "\n",
        "Conclusión: `chainladder` es una herramienta esencial para los actuarios en el ámbito de seguros,\n",
        "ofreciendo un enfoque robusto y flexible para la estimación de reservas.\n"
      ]
    }
  ],
  "metadata": {
    "language_info": {
      "name": "python"
    },
    "colab": {
      "provenance": []
    },
    "kernelspec": {
      "name": "python3",
      "display_name": "Python 3"
    }
  },
  "nbformat": 4,
  "nbformat_minor": 5
}